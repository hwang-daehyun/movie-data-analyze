{
 "cells": [
  {
   "cell_type": "code",
   "execution_count": null,
   "metadata": {
    "vscode": {
     "languageId": "plaintext"
    }
   },
   "outputs": [],
   "source": [
    "import pandas as pd\n",
    "import matplotlib.pyplot as plt\n",
    "import plotly.express as px\n"
   ]
  },
  {
   "cell_type": "code",
   "execution_count": null,
   "metadata": {
    "vscode": {
     "languageId": "plaintext"
    }
   },
   "outputs": [],
   "source": [
    "df = pd.read_excel(\"C:\\\\Users\\\\dhwhang\\\\Desktop\\\\설문지\\\\2024년 12월\\\\GRi리서치\\\\울릉도 공항 건설사업에 대한 의견조사\\\\241217_울릉도 공항 건설사업에 대한 의견조사_원자료.xlsx\")\n",
    "df"
   ]
  },
  {
   "cell_type": "markdown",
   "metadata": {},
   "source": [
    "# 필요없는 컬럼 삭제"
   ]
  },
  {
   "cell_type": "code",
   "execution_count": null,
   "metadata": {
    "vscode": {
     "languageId": "plaintext"
    }
   },
   "outputs": [],
   "source": [
    "df.drop(columns = ['STATUS', 'STARTTIME', 'ENDTIME', 'DEVICE', 'GROUP',\n",
    "       'FASTBOAT_SCENARIO#1', 'FASTBOAT_SCENARIO#2', 'FASTBOAT_SCENARIO#3', \n",
    "       'FASTBOAT_SCENARIO#4', 'CRUISE_SCENARIO#1', 'CRUISE_SCENARIO#2',     \n",
    "       'CRUISE_SCENARIO#3', 'CRUISE_SCENARIO#4', 'JET_SCENARIO#1',\n",
    "       'JET_SCENARIO#2', 'JET_SCENARIO#3', 'JET_SCENARIO#4', 'PRO_SCENARIO#1',\n",
    "       'PRO_SCENARIO#2', 'PRO_SCENARIO#3', 'PRO_SCENARIO#4'], inplace=True)\n"
   ]
  },
  {
   "cell_type": "code",
   "execution_count": null,
   "metadata": {
    "vscode": {
     "languageId": "plaintext"
    }
   },
   "outputs": [],
   "source": [
    "# 시간을 분으토 통합하여 int로 변환환\n",
    "\n",
    "df['시간']=(df['Q3_3#1'] * 60) + df['Q3_3#2']\n",
    "\n",
    "df['시간'].astype(int)\n"
   ]
  },
  {
   "cell_type": "markdown",
   "metadata": {},
   "source": [
    "도착지 마다 시간 비교를 위한 데이터 라벨화"
   ]
  },
  {
   "cell_type": "code",
   "execution_count": null,
   "metadata": {
    "vscode": {
     "languageId": "plaintext"
    }
   },
   "outputs": [],
   "source": [
    "def coal_area(num):\n",
    "    if num == 1:\n",
    "        return '포항항'\n",
    "    elif num == 2:\n",
    "        return '묵호항'\n",
    "    elif num == 3:\n",
    "        return '강릉항'\n",
    "    else:\n",
    "        return '후포항'\n"
   ]
  },
  {
   "cell_type": "code",
   "execution_count": null,
   "metadata": {
    "vscode": {
     "languageId": "plaintext"
    }
   },
   "outputs": [],
   "source": [
    "df['도착지'] = df['Q3_1_R'].apply(coal_area)"
   ]
  },
  {
   "cell_type": "markdown",
   "metadata": {},
   "source": [
    "지역 코드에 라벨 입히기기"
   ]
  },
  {
   "cell_type": "code",
   "execution_count": null,
   "metadata": {
    "vscode": {
     "languageId": "plaintext"
    }
   },
   "outputs": [],
   "source": [
    "def bon_area(number):\n",
    "    if number == 1:\n",
    "        return '서울'\n",
    "    elif number == 2:\n",
    "        return '부산'\n",
    "    elif number == 3:\n",
    "        return '대구'\n",
    "    elif number == 4:\n",
    "        return '인천'\n",
    "    elif number == 5:\n",
    "        return '광주'\n",
    "    elif number == 6:\n",
    "        return '대전'\n",
    "    elif number == 7:\n",
    "        return '울산'\n",
    "    elif number == 8:\n",
    "        return '세종'\n",
    "    elif number == 9:\n",
    "        return '경기'\n",
    "    elif number == 10:\n",
    "        return '강원'\n",
    "    elif number == 11:\n",
    "        return '충북'\n",
    "    elif number == 12:\n",
    "        return '충남'\n",
    "    elif number == 13:\n",
    "        return '전북'\n",
    "    elif number == 14:\n",
    "        return '전남'\n",
    "    elif number == 15:\n",
    "        return '경북'\n",
    "    elif number == 16:\n",
    "        return '경남'\n"
   ]
  },
  {
   "cell_type": "code",
   "execution_count": null,
   "metadata": {
    "vscode": {
     "languageId": "plaintext"
    }
   },
   "outputs": [],
   "source": [
    "df['지역'] = df['SQ1_R_R'].apply(bon_area)"
   ]
  },
  {
   "cell_type": "code",
   "execution_count": null,
   "metadata": {
    "vscode": {
     "languageId": "plaintext"
    }
   },
   "outputs": [],
   "source": [
    "time_area = df.groupby('도착지')[['시간']].mean().reset_index()\n",
    "지역변수 = df.groupby('지역')[['시간']].mean().reset_index()\n"
   ]
  },
  {
   "cell_type": "code",
   "execution_count": null,
   "metadata": {
    "vscode": {
     "languageId": "plaintext"
    }
   },
   "outputs": [],
   "source": [
    "# plt.rcParams['font.family'] ='Malgun Gothic'\n",
    "# plt.rcParams['axes.unicode_minus'] =False\n",
    "# plt.plot(time_area['도착지'],time_area['시간'])\n",
    "# plt.ylabel('시간(분)')\n",
    "# plt.xlabel('도착항')\n",
    "# plt.show()\n"
   ]
  }
 ],
 "metadata": {
  "language_info": {
   "name": "python"
  }
 },
 "nbformat": 4,
 "nbformat_minor": 2
}
