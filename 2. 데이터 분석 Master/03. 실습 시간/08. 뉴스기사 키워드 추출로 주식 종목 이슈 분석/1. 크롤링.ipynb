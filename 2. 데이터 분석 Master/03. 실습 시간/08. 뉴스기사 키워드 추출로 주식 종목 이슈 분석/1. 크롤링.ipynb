{
 "cells": [
  {
   "cell_type": "code",
   "execution_count": 1,
   "metadata": {},
   "outputs": [
    {
     "data": {
      "application/vnd.jupyter.widget-view+json": {
       "model_id": "33644954d6da438fa71d6462dedb24e4",
       "version_major": 2,
       "version_minor": 0
      },
      "text/plain": [
       "  0%|          | 0/694 [00:00<?, ?it/s]"
      ]
     },
     "metadata": {},
     "output_type": "display_data"
    },
    {
     "data": {
      "application/vnd.jupyter.widget-view+json": {
       "model_id": "c3a8cfb945d14e14b37caa6457327869",
       "version_major": 2,
       "version_minor": 0
      },
      "text/plain": [
       "  0%|          | 0/694 [00:00<?, ?it/s]"
      ]
     },
     "metadata": {},
     "output_type": "display_data"
    },
    {
     "data": {
      "application/vnd.jupyter.widget-view+json": {
       "model_id": "41896b1161f9428ab198661165e899e7",
       "version_major": 2,
       "version_minor": 0
      },
      "text/plain": [
       "  0%|          | 0/694 [00:00<?, ?it/s]"
      ]
     },
     "metadata": {},
     "output_type": "display_data"
    }
   ],
   "source": [
    "# **주식 데이터 - 뉴스기사 키워드 추출을 통한 주식 종목 이슈 분석**\n",
    "import matplotlib.pyplot as plt\n",
    "import FinanceDataReader as fdr\n",
    "import pandas as pd\n",
    "import FinanceDataReader as fdr\n",
    "\n",
    "## **데이터 수집**\n",
    "\n",
    "#- 주식 데이터 수집\n",
    "\n",
    "plt.rc('font', family='NanumGothic')\n",
    "\n",
    "kospi = fdr.StockListing('KOSPI')\n",
    "'''print(kospi.head())'''\n",
    "\n",
    "\n",
    "top3 = kospi.head(3)[['Code', 'Name']]\n",
    "'''print(top3)'''\n",
    "\n",
    "stock_close = pd.DataFrame()\n",
    "for i in top3.index:\n",
    "    temp = fdr.DataReader(top3.loc[i, 'Code'], start='2022-01-01', end='2024-10-31')[['Close']].rename({'Close': top3.loc[i,'Name']}, axis=1)\n",
    "    stock_close = pd.concat([stock_close, temp], axis=1)\n",
    "\n",
    "'''print(stock_close)'''\n",
    "\n",
    "#- 일자별 각 종목 뉴스 제목 수집\n",
    "from user_agent import generate_user_agent, generate_navigator\n",
    "user_agent = generate_user_agent()\n",
    "'''print(user_agent)'''\n",
    "\n",
    "import requests\n",
    "from bs4 import BeautifulSoup as bs\n",
    "import random\n",
    "import time\n",
    "from tqdm.notebook import tqdm\n",
    "\n",
    "date_list = list(stock_close.index.strftime('%Y.%m.%d'))\n",
    "'''print(date_list)'''\n",
    "\n",
    "def new_crawling(keyword):\n",
    "    data = pd.DataFrame()\n",
    "    for dt in tqdm(date_list):\n",
    "        dt1 = dt.replace('.','')\n",
    "\n",
    "        url = f'https://search.naver.com/search.naver?where=news&query={keyword}&sm=tab_opt&sort=0&photo=0&field=0&pd=3&ds={dt}&de={dt}&docid=&related=0&mynews=0&office_type=0&office_section_code=0&news_office_checked=&nso=so%3Ar%2Cp%3Afrom{dt1}to{dt1}&is_sug_officeid=0&office_category=0&service_area=1'\n",
    "\n",
    "        user_agent = generate_user_agent()\n",
    "        headers = {'User-Aqent':user_agent}\n",
    "\n",
    "        res = requests.get(url, headers=headers)\n",
    "        time.sleep(random.random())\n",
    "        soup = bs(res.text, 'html.parser')\n",
    "\n",
    "        title = [i.text for i in soup.find_all('a', class_='news_tit')]\n",
    "\n",
    "        if len(title) < 1: #크롤링이 아무것도 되지 않았으면 루프를 종료, 시간 텀을 가진 뒤 다시 크롤링\n",
    "            break\n",
    "\n",
    "        temp = pd.DataFrame({'keyword':keyword, 'title':title, 'date_ymd':dt1})\n",
    "        data = pd.concat([data, temp])\n",
    "\n",
    "    return data\n",
    "\n",
    "keyword_list = ['삼성전자', 'SK하이닉스', 'LG에너지솔루션']\n",
    "\n",
    "news_data = pd.DataFrame()\n",
    "for k in keyword_list:\n",
    "    news = new_crawling(k)\n",
    "    news_data = pd.concat([news_data, news])\n",
    "\n",
    "news_data.to_excel('C:\\\\Users\\\\User\\\\Desktop\\\\패스트 캠퍼스 데이터 마스터\\\\파이썬\\\\Part3) 파이썬 데이터 분석 실습\\\\Data\\\\실습8_ 직접 크롤링하기 - 뉴스기사 키워드 추출을 통한 주식 종목 이슈 분석\\\\new_data.xlsx')"
   ]
  }
 ],
 "metadata": {
  "kernelspec": {
   "display_name": "Python 3",
   "language": "python",
   "name": "python3"
  },
  "language_info": {
   "codemirror_mode": {
    "name": "ipython",
    "version": 3
   },
   "file_extension": ".py",
   "mimetype": "text/x-python",
   "name": "python",
   "nbconvert_exporter": "python",
   "pygments_lexer": "ipython3",
   "version": "3.12.1"
  }
 },
 "nbformat": 4,
 "nbformat_minor": 2
}
