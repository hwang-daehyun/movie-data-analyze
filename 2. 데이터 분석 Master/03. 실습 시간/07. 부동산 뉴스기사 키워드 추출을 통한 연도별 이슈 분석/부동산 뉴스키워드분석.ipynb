{
 "cells": [
  {
   "cell_type": "markdown",
   "metadata": {},
   "source": [
    "# **뉴스 데이터 - 부동산 뉴스기사 키워드 추출을 통한 연도별 이슈 분석**"
   ]
  },
  {
   "cell_type": "markdown",
   "metadata": {},
   "source": [
    "- 필요한 라이브러리 다운로드"
   ]
  },
  {
   "cell_type": "code",
   "execution_count": 81,
   "metadata": {},
   "outputs": [
    {
     "name": "stderr",
     "output_type": "stream",
     "text": [
      "'sudo'��(��) ���� �Ǵ� �ܺ� ����, ������ �� �ִ� ���α׷�, �Ǵ�\n",
      "��ġ ������ �ƴմϴ�.\n",
      "'sudo'��(��) ���� �Ǵ� �ܺ� ����, ������ �� �ִ� ���α׷�, �Ǵ�\n",
      "��ġ ������ �ƴմϴ�.\n",
      "'rm'��(��) ���� �Ǵ� �ܺ� ����, ������ �� �ִ� ���α׷�, �Ǵ�\n",
      "��ġ ������ �ƴմϴ�.\n"
     ]
    }
   ],
   "source": [
    "#한글 폰트 다운로드\n",
    "!sudo apt-get install -y fonts-nanum\n",
    "!sudo fc-cache -fv\n",
    "!rm ~/.cache/matplotlib -rf\n"
   ]
  },
  {
   "cell_type": "code",
   "execution_count": 82,
   "metadata": {},
   "outputs": [
    {
     "name": "stdout",
     "output_type": "stream",
     "text": [
      "^C\n"
     ]
    },
    {
     "name": "stdout",
     "output_type": "stream",
     "text": [
      "Requirement already satisfied: user_agent in c:\\python312\\lib\\site-packages (0.1.10)\n",
      "Requirement already satisfied: six in c:\\python312\\lib\\site-packages (from user_agent) (1.16.0)\n"
     ]
    },
    {
     "name": "stderr",
     "output_type": "stream",
     "text": [
      "WARNING: Ignoring invalid distribution ~ (C:\\Python312\\Lib\\site-packages)\n",
      "WARNING: Ignoring invalid distribution ~-p (C:\\Python312\\Lib\\site-packages)\n",
      "WARNING: Ignoring invalid distribution ~ip (C:\\Python312\\Lib\\site-packages)\n",
      "WARNING: Ignoring invalid distribution ~lotly (C:\\Python312\\Lib\\site-packages)\n",
      "WARNING: Ignoring invalid distribution ~~p (C:\\Python312\\Lib\\site-packages)\n",
      "WARNING: Ignoring invalid distribution ~ (C:\\Python312\\Lib\\site-packages)\n",
      "WARNING: Ignoring invalid distribution ~-p (C:\\Python312\\Lib\\site-packages)\n",
      "WARNING: Ignoring invalid distribution ~ip (C:\\Python312\\Lib\\site-packages)\n",
      "WARNING: Ignoring invalid distribution ~lotly (C:\\Python312\\Lib\\site-packages)\n",
      "WARNING: Ignoring invalid distribution ~~p (C:\\Python312\\Lib\\site-packages)\n",
      "WARNING: Ignoring invalid distribution ~ (C:\\Python312\\Lib\\site-packages)\n",
      "WARNING: Ignoring invalid distribution ~-p (C:\\Python312\\Lib\\site-packages)\n",
      "WARNING: Ignoring invalid distribution ~ip (C:\\Python312\\Lib\\site-packages)\n",
      "WARNING: Ignoring invalid distribution ~lotly (C:\\Python312\\Lib\\site-packages)\n",
      "WARNING: Ignoring invalid distribution ~~p (C:\\Python312\\Lib\\site-packages)\n"
     ]
    }
   ],
   "source": [
    "#크롤링 user_agent 생성 라이브러리 다운로드\n",
    "!pip install user_agent"
   ]
  },
  {
   "cell_type": "code",
   "execution_count": null,
   "metadata": {},
   "outputs": [
    {
     "name": "stdout",
     "output_type": "stream",
     "text": [
      "Requirement already satisfied: konlpy in c:\\python312\\lib\\site-packages (0.6.0)\n",
      "Requirement already satisfied: JPype1>=0.7.0 in c:\\python312\\lib\\site-packages (from konlpy) (1.5.0)\n",
      "Requirement already satisfied: lxml>=4.1.0 in c:\\python312\\lib\\site-packages (from konlpy) (5.2.1)\n",
      "Requirement already satisfied: numpy>=1.6 in c:\\python312\\lib\\site-packages (from konlpy) (1.26.4)\n",
      "Requirement already satisfied: packaging in c:\\python312\\lib\\site-packages (from JPype1>=0.7.0->konlpy) (24.0)\n"
     ]
    },
    {
     "name": "stderr",
     "output_type": "stream",
     "text": [
      "WARNING: Ignoring invalid distribution ~ (C:\\Python312\\Lib\\site-packages)\n",
      "WARNING: Ignoring invalid distribution ~-p (C:\\Python312\\Lib\\site-packages)\n",
      "WARNING: Ignoring invalid distribution ~ip (C:\\Python312\\Lib\\site-packages)\n",
      "WARNING: Ignoring invalid distribution ~lotly (C:\\Python312\\Lib\\site-packages)\n",
      "WARNING: Ignoring invalid distribution ~~p (C:\\Python312\\Lib\\site-packages)\n",
      "WARNING: Ignoring invalid distribution ~ (C:\\Python312\\Lib\\site-packages)\n",
      "WARNING: Ignoring invalid distribution ~-p (C:\\Python312\\Lib\\site-packages)\n",
      "WARNING: Ignoring invalid distribution ~ip (C:\\Python312\\Lib\\site-packages)\n",
      "WARNING: Ignoring invalid distribution ~lotly (C:\\Python312\\Lib\\site-packages)\n",
      "WARNING: Ignoring invalid distribution ~~p (C:\\Python312\\Lib\\site-packages)\n",
      "WARNING: Ignoring invalid distribution ~ (C:\\Python312\\Lib\\site-packages)\n",
      "WARNING: Ignoring invalid distribution ~-p (C:\\Python312\\Lib\\site-packages)\n",
      "WARNING: Ignoring invalid distribution ~ip (C:\\Python312\\Lib\\site-packages)\n",
      "WARNING: Ignoring invalid distribution ~lotly (C:\\Python312\\Lib\\site-packages)\n",
      "WARNING: Ignoring invalid distribution ~~p (C:\\Python312\\Lib\\site-packages)\n"
     ]
    },
    {
     "name": "stdout",
     "output_type": "stream",
     "text": [
      "Requirement already satisfied: mecab-python in c:\\python312\\lib\\site-packages (1.0.0)\n",
      "Requirement already satisfied: mecab-python3 in c:\\python312\\lib\\site-packages (from mecab-python) (1.0.10)\n"
     ]
    },
    {
     "name": "stderr",
     "output_type": "stream",
     "text": [
      "WARNING: Ignoring invalid distribution ~ (C:\\Python312\\Lib\\site-packages)\n",
      "WARNING: Ignoring invalid distribution ~-p (C:\\Python312\\Lib\\site-packages)\n",
      "WARNING: Ignoring invalid distribution ~ip (C:\\Python312\\Lib\\site-packages)\n",
      "WARNING: Ignoring invalid distribution ~lotly (C:\\Python312\\Lib\\site-packages)\n",
      "WARNING: Ignoring invalid distribution ~~p (C:\\Python312\\Lib\\site-packages)\n",
      "WARNING: Ignoring invalid distribution ~ (C:\\Python312\\Lib\\site-packages)\n",
      "WARNING: Ignoring invalid distribution ~-p (C:\\Python312\\Lib\\site-packages)\n",
      "WARNING: Ignoring invalid distribution ~ip (C:\\Python312\\Lib\\site-packages)\n",
      "WARNING: Ignoring invalid distribution ~lotly (C:\\Python312\\Lib\\site-packages)\n",
      "WARNING: Ignoring invalid distribution ~~p (C:\\Python312\\Lib\\site-packages)\n",
      "WARNING: Ignoring invalid distribution ~ (C:\\Python312\\Lib\\site-packages)\n",
      "WARNING: Ignoring invalid distribution ~-p (C:\\Python312\\Lib\\site-packages)\n",
      "WARNING: Ignoring invalid distribution ~ip (C:\\Python312\\Lib\\site-packages)\n",
      "WARNING: Ignoring invalid distribution ~lotly (C:\\Python312\\Lib\\site-packages)\n",
      "WARNING: Ignoring invalid distribution ~~p (C:\\Python312\\Lib\\site-packages)\n",
      "������ ������ ã�� �� �����ϴ�.\n"
     ]
    }
   ],
   "source": [
    "#한글 형태소 분석기 다운로드\n",
    "!pip install konlpy\n",
    "!pip install mecab-python\n",
    "!bash <(curl -s https://raw.githubusercontent.com/konlpy/konlpy/master/scripts/mecab.sh)"
   ]
  },
  {
   "cell_type": "markdown",
   "metadata": {},
   "source": [
    "## **데이터 수집**"
   ]
  },
  {
   "cell_type": "markdown",
   "metadata": {},
   "source": [
    "- 2018년도부터 2023년 8월까지 '부동산' 키워드 뉴스 기사 크롤링"
   ]
  },
  {
   "cell_type": "code",
   "execution_count": null,
   "metadata": {},
   "outputs": [
    {
     "data": {
      "text/plain": [
       "'Mozilla/5.0 (Windows NT 6.3; Win64; x64; Trident/7.0; rv:11.0) like Gecko'"
      ]
     },
     "execution_count": 46,
     "metadata": {},
     "output_type": "execute_result"
    }
   ],
   "source": [
    "from user_agent import generate_user_agent, generate_navigator\n",
    "user_agent = generate_user_agent()\n",
    "user_agent"
   ]
  },
  {
   "cell_type": "code",
   "execution_count": null,
   "metadata": {},
   "outputs": [],
   "source": [
    "import requests\n",
    "from bs4 import BeautifulSoup as bs\n",
    "import pandas as pd\n",
    "import random\n",
    "import time\n",
    "from tqdm.notebook import tqdm\n"
   ]
  },
  {
   "cell_type": "code",
   "execution_count": null,
   "metadata": {},
   "outputs": [
    {
     "name": "stderr",
     "output_type": "stream",
     "text": [
      "C:\\Users\\User\\AppData\\Local\\Temp\\ipykernel_16400\\2317508191.py:1: FutureWarning: 'M' is deprecated and will be removed in a future version, please use 'ME' instead.\n",
      "  pd.date_range('2018-01-01', '2023-08-31', freq='M').strftime('%Y.%m.%d')\n"
     ]
    },
    {
     "data": {
      "text/plain": [
       "Index(['2018.01.31', '2018.02.28', '2018.03.31', '2018.04.30', '2018.05.31',\n",
       "       '2018.06.30', '2018.07.31', '2018.08.31', '2018.09.30', '2018.10.31',\n",
       "       '2018.11.30', '2018.12.31', '2019.01.31', '2019.02.28', '2019.03.31',\n",
       "       '2019.04.30', '2019.05.31', '2019.06.30', '2019.07.31', '2019.08.31',\n",
       "       '2019.09.30', '2019.10.31', '2019.11.30', '2019.12.31', '2020.01.31',\n",
       "       '2020.02.29', '2020.03.31', '2020.04.30', '2020.05.31', '2020.06.30',\n",
       "       '2020.07.31', '2020.08.31', '2020.09.30', '2020.10.31', '2020.11.30',\n",
       "       '2020.12.31', '2021.01.31', '2021.02.28', '2021.03.31', '2021.04.30',\n",
       "       '2021.05.31', '2021.06.30', '2021.07.31', '2021.08.31', '2021.09.30',\n",
       "       '2021.10.31', '2021.11.30', '2021.12.31', '2022.01.31', '2022.02.28',\n",
       "       '2022.03.31', '2022.04.30', '2022.05.31', '2022.06.30', '2022.07.31',\n",
       "       '2022.08.31', '2022.09.30', '2022.10.31', '2022.11.30', '2022.12.31',\n",
       "       '2023.01.31', '2023.02.28', '2023.03.31', '2023.04.30', '2023.05.31',\n",
       "       '2023.06.30', '2023.07.31', '2023.08.31'],\n",
       "      dtype='object')"
      ]
     },
     "execution_count": 32,
     "metadata": {},
     "output_type": "execute_result"
    }
   ],
   "source": [
    "pd.date_range('2018-01-01', '2023-08-31', freq='M').strftime('%Y.%m.%d')"
   ]
  },
  {
   "cell_type": "code",
   "execution_count": null,
   "metadata": {},
   "outputs": [
    {
     "name": "stderr",
     "output_type": "stream",
     "text": [
      "C:\\Users\\User\\AppData\\Local\\Temp\\ipykernel_16400\\975868755.py:4: FutureWarning: 'M' is deprecated and will be removed in a future version, please use 'ME' instead.\n",
      "  last_day = pd.date_range('2018-01-01', '2024-10-31', freq='M').strftime('%Y.%m.%d')\n"
     ]
    }
   ],
   "source": [
    "#pd.date_range('2018-01-01', '2023-08-31', freq='MS').strftime('%Y.%m.%d') => freq='MS' 각 월의 첫번째날 / freq='M' 각 월의 마지막날   \n",
    "\n",
    "first_day = pd.date_range('2018-01-01', '2024-10-31', freq='MS').strftime('%Y.%m.%d')\n",
    "last_day = pd.date_range('2018-01-01', '2024-10-31', freq='M').strftime('%Y.%m.%d')\n",
    "\n",
    "# Zip을 통해서 리스트 안에 (first_day, last_day)가 들어가게 만들어 준다.\n",
    "date_list = list(zip(first_day, last_day))"
   ]
  },
  {
   "cell_type": "code",
   "execution_count": null,
   "metadata": {},
   "outputs": [
    {
     "data": {
      "text/plain": [
       "[('2018.01.01', '2018.01.31'),\n",
       " ('2018.02.01', '2018.02.28'),\n",
       " ('2018.03.01', '2018.03.31'),\n",
       " ('2018.04.01', '2018.04.30'),\n",
       " ('2018.05.01', '2018.05.31'),\n",
       " ('2018.06.01', '2018.06.30'),\n",
       " ('2018.07.01', '2018.07.31'),\n",
       " ('2018.08.01', '2018.08.31'),\n",
       " ('2018.09.01', '2018.09.30'),\n",
       " ('2018.10.01', '2018.10.31'),\n",
       " ('2018.11.01', '2018.11.30'),\n",
       " ('2018.12.01', '2018.12.31'),\n",
       " ('2019.01.01', '2019.01.31'),\n",
       " ('2019.02.01', '2019.02.28'),\n",
       " ('2019.03.01', '2019.03.31'),\n",
       " ('2019.04.01', '2019.04.30'),\n",
       " ('2019.05.01', '2019.05.31'),\n",
       " ('2019.06.01', '2019.06.30'),\n",
       " ('2019.07.01', '2019.07.31'),\n",
       " ('2019.08.01', '2019.08.31'),\n",
       " ('2019.09.01', '2019.09.30'),\n",
       " ('2019.10.01', '2019.10.31'),\n",
       " ('2019.11.01', '2019.11.30'),\n",
       " ('2019.12.01', '2019.12.31'),\n",
       " ('2020.01.01', '2020.01.31'),\n",
       " ('2020.02.01', '2020.02.29'),\n",
       " ('2020.03.01', '2020.03.31'),\n",
       " ('2020.04.01', '2020.04.30'),\n",
       " ('2020.05.01', '2020.05.31'),\n",
       " ('2020.06.01', '2020.06.30'),\n",
       " ('2020.07.01', '2020.07.31'),\n",
       " ('2020.08.01', '2020.08.31'),\n",
       " ('2020.09.01', '2020.09.30'),\n",
       " ('2020.10.01', '2020.10.31'),\n",
       " ('2020.11.01', '2020.11.30'),\n",
       " ('2020.12.01', '2020.12.31'),\n",
       " ('2021.01.01', '2021.01.31'),\n",
       " ('2021.02.01', '2021.02.28'),\n",
       " ('2021.03.01', '2021.03.31'),\n",
       " ('2021.04.01', '2021.04.30'),\n",
       " ('2021.05.01', '2021.05.31'),\n",
       " ('2021.06.01', '2021.06.30'),\n",
       " ('2021.07.01', '2021.07.31'),\n",
       " ('2021.08.01', '2021.08.31'),\n",
       " ('2021.09.01', '2021.09.30'),\n",
       " ('2021.10.01', '2021.10.31'),\n",
       " ('2021.11.01', '2021.11.30'),\n",
       " ('2021.12.01', '2021.12.31'),\n",
       " ('2022.01.01', '2022.01.31'),\n",
       " ('2022.02.01', '2022.02.28'),\n",
       " ('2022.03.01', '2022.03.31'),\n",
       " ('2022.04.01', '2022.04.30'),\n",
       " ('2022.05.01', '2022.05.31'),\n",
       " ('2022.06.01', '2022.06.30'),\n",
       " ('2022.07.01', '2022.07.31'),\n",
       " ('2022.08.01', '2022.08.31'),\n",
       " ('2022.09.01', '2022.09.30'),\n",
       " ('2022.10.01', '2022.10.31'),\n",
       " ('2022.11.01', '2022.11.30'),\n",
       " ('2022.12.01', '2022.12.31'),\n",
       " ('2023.01.01', '2023.01.31'),\n",
       " ('2023.02.01', '2023.02.28'),\n",
       " ('2023.03.01', '2023.03.31'),\n",
       " ('2023.04.01', '2023.04.30'),\n",
       " ('2023.05.01', '2023.05.31'),\n",
       " ('2023.06.01', '2023.06.30'),\n",
       " ('2023.07.01', '2023.07.31'),\n",
       " ('2023.08.01', '2023.08.31'),\n",
       " ('2023.09.01', '2023.09.30'),\n",
       " ('2023.10.01', '2023.10.31'),\n",
       " ('2023.11.01', '2023.11.30'),\n",
       " ('2023.12.01', '2023.12.31'),\n",
       " ('2024.01.01', '2024.01.31'),\n",
       " ('2024.02.01', '2024.02.29'),\n",
       " ('2024.03.01', '2024.03.31'),\n",
       " ('2024.04.01', '2024.04.30'),\n",
       " ('2024.05.01', '2024.05.31'),\n",
       " ('2024.06.01', '2024.06.30'),\n",
       " ('2024.07.01', '2024.07.31'),\n",
       " ('2024.08.01', '2024.08.31'),\n",
       " ('2024.09.01', '2024.09.30'),\n",
       " ('2024.10.01', '2024.10.31')]"
      ]
     },
     "execution_count": 34,
     "metadata": {},
     "output_type": "execute_result"
    }
   ],
   "source": [
    "date_list"
   ]
  },
  {
   "cell_type": "code",
   "execution_count": null,
   "metadata": {},
   "outputs": [],
   "source": [
    "url = 'https://search.naver.com/search.naver?where=news&query=%EB%B6%80%EB%8F%99%EC%82%B0&sm=tab_opt&sort=0&photo=0&field=0&pd=3&ds=2023.01.01&de=2023.01.31&docid=&related=0&mynews=0&office_type=0&office_section_code=0&news_office_checked=&nso=so%3Ar%2Cp%3Afrom20230101to20230131&is_sug_officeid=0&office_category=0&service_area=1'"
   ]
  },
  {
   "cell_type": "code",
   "execution_count": null,
   "metadata": {},
   "outputs": [],
   "source": [
    "user_agent = generate_user_agent()\n",
    "headers = {'user-Agent':user_agent}\n",
    "\n",
    "res = requests.get(url, headers=headers)\n",
    "soup = bs(res.text, 'html.parser')"
   ]
  },
  {
   "cell_type": "code",
   "execution_count": null,
   "metadata": {},
   "outputs": [
    {
     "data": {
      "text/plain": [
       "'전국 미분양 결국 레드라인 넘었다…7만 가구 육박 [부동산360]'"
      ]
     },
     "execution_count": 37,
     "metadata": {},
     "output_type": "execute_result"
    }
   ],
   "source": [
    "# 뉴스의 타이틀을 불러오기 위한 것\n",
    "soup.find_all('a', class_='news_tit')[0].text"
   ]
  },
  {
   "cell_type": "code",
   "execution_count": null,
   "metadata": {},
   "outputs": [
    {
     "data": {
      "text/plain": [
       "['전국 미분양 결국 레드라인 넘었다…7만 가구 육박 [부동산360]',\n",
       " '부동산원-부동산R114, 입주물량 공개...올해 44만3000가구 예정',\n",
       " '부동산 대출 규제 더 풀린다… 1주택자 LTV 추가 확대 추진',\n",
       " '부동산PF 시장에도 위기감 계속‥정부, 부실 PF 연착륙 유도',\n",
       " '[단독] NH투자증권, 부동산PF 운용사 구상권 청구 소송',\n",
       " '주담대 원금 상환 유예해주고…부동산 대출 규제는 더 푼다',\n",
       " '금융위,올해 최대리스크는 부동산PF..1조원 펀드 조성',\n",
       " \"최대 뇌관 'PF 대책' 내놓은 금융위...부동산 경착륙 막을까\",\n",
       " \"'500억대 부동산 부자' 송중기도 받는다…다문화가정 혜택은\",\n",
       " \"원희룡 장관과 오세훈 시장의 '부동산 말 한마디' [김진수의 부동산 인...\"]"
      ]
     },
     "execution_count": 38,
     "metadata": {},
     "output_type": "execute_result"
    }
   ],
   "source": [
    "[i.text for i in soup.find_all('a', class_='news_tit')]"
   ]
  },
  {
   "cell_type": "code",
   "execution_count": null,
   "metadata": {},
   "outputs": [
    {
     "data": {
      "text/plain": [
       "['http://news.heraldcorp.com/view.php?ud=20230131000515',\n",
       " 'https://www.news1.kr/articles/4938499',\n",
       " 'http://www.segye.com/content/html/2023/01/30/20230130516606.html?OutUrl=naver',\n",
       " 'https://imnews.imbc.com/replay/2023/nwdesk/article/6450602_36199.html',\n",
       " 'https://biz.sbs.co.kr/article_hub/20000100868?division=NAVER',\n",
       " 'https://www.nocutnews.co.kr/news/5886816',\n",
       " 'http://www.fnnews.com/news/202301301406404010',\n",
       " 'http://www.ohmynews.com/NWS_Web/View/at_pg.aspx?CNTN_CD=A0002898074&CMPT_CD=P0010&utm_source=naver&utm_medium=newsearch&utm_campaign=naver_news',\n",
       " 'https://www.joongang.co.kr/article/25137213',\n",
       " 'https://www.hankyung.com/realestate/article/202301313595i']"
      ]
     },
     "execution_count": 39,
     "metadata": {},
     "output_type": "execute_result"
    }
   ],
   "source": [
    "[i['href'] for i in soup.find_all('a', class_='news_tit')]"
   ]
  },
  {
   "cell_type": "code",
   "execution_count": null,
   "metadata": {},
   "outputs": [
    {
     "data": {
      "text/plain": [
       "['헤럴드경제언론사 선정',\n",
       " '뉴스1',\n",
       " '세계일보언론사 선정',\n",
       " 'MBC언론사 선정',\n",
       " 'SBS Biz언론사 선정',\n",
       " '노컷뉴스언론사 선정',\n",
       " '파이낸셜뉴스언론사 선정',\n",
       " '오마이뉴스언론사 선정',\n",
       " '중앙일보언론사 선정',\n",
       " '한국경제언론사 선정']"
      ]
     },
     "execution_count": 40,
     "metadata": {},
     "output_type": "execute_result"
    }
   ],
   "source": [
    "[i.text for i in soup.find_all('a', class_='info press')]"
   ]
  },
  {
   "cell_type": "code",
   "execution_count": null,
   "metadata": {},
   "outputs": [
    {
     "data": {
      "application/vnd.jupyter.widget-view+json": {
       "model_id": "978f06fdfb9c424287b861809e219492",
       "version_major": 2,
       "version_minor": 0
      },
      "text/plain": [
       "  0%|          | 0/82 [00:00<?, ?it/s]"
      ]
     },
     "metadata": {},
     "output_type": "display_data"
    },
    {
     "name": "stdout",
     "output_type": "stream",
     "text": [
      "('2018.01.01', '2018.01.31') ['20180101', '20180131']\n",
      "('2018.02.01', '2018.02.28') ['20180201', '20180228']\n",
      "('2018.03.01', '2018.03.31') ['20180301', '20180331']\n",
      "('2018.04.01', '2018.04.30') ['20180401', '20180430']\n",
      "('2018.05.01', '2018.05.31') ['20180501', '20180531']\n",
      "('2018.06.01', '2018.06.30') ['20180601', '20180630']\n",
      "('2018.07.01', '2018.07.31') ['20180701', '20180731']\n",
      "('2018.08.01', '2018.08.31') ['20180801', '20180831']\n",
      "('2018.09.01', '2018.09.30') ['20180901', '20180930']\n",
      "('2018.10.01', '2018.10.31') ['20181001', '20181031']\n",
      "('2018.11.01', '2018.11.30') ['20181101', '20181130']\n",
      "('2018.12.01', '2018.12.31') ['20181201', '20181231']\n",
      "('2019.01.01', '2019.01.31') ['20190101', '20190131']\n",
      "('2019.02.01', '2019.02.28') ['20190201', '20190228']\n",
      "('2019.03.01', '2019.03.31') ['20190301', '20190331']\n",
      "('2019.04.01', '2019.04.30') ['20190401', '20190430']\n",
      "('2019.05.01', '2019.05.31') ['20190501', '20190531']\n",
      "('2019.06.01', '2019.06.30') ['20190601', '20190630']\n",
      "('2019.07.01', '2019.07.31') ['20190701', '20190731']\n",
      "('2019.08.01', '2019.08.31') ['20190801', '20190831']\n",
      "('2019.09.01', '2019.09.30') ['20190901', '20190930']\n",
      "('2019.10.01', '2019.10.31') ['20191001', '20191031']\n",
      "('2019.11.01', '2019.11.30') ['20191101', '20191130']\n",
      "('2019.12.01', '2019.12.31') ['20191201', '20191231']\n",
      "('2020.01.01', '2020.01.31') ['20200101', '20200131']\n",
      "('2020.02.01', '2020.02.29') ['20200201', '20200229']\n",
      "('2020.03.01', '2020.03.31') ['20200301', '20200331']\n",
      "('2020.04.01', '2020.04.30') ['20200401', '20200430']\n",
      "('2020.05.01', '2020.05.31') ['20200501', '20200531']\n",
      "('2020.06.01', '2020.06.30') ['20200601', '20200630']\n",
      "('2020.07.01', '2020.07.31') ['20200701', '20200731']\n",
      "('2020.08.01', '2020.08.31') ['20200801', '20200831']\n",
      "('2020.09.01', '2020.09.30') ['20200901', '20200930']\n",
      "('2020.10.01', '2020.10.31') ['20201001', '20201031']\n",
      "('2020.11.01', '2020.11.30') ['20201101', '20201130']\n",
      "('2020.12.01', '2020.12.31') ['20201201', '20201231']\n",
      "('2021.01.01', '2021.01.31') ['20210101', '20210131']\n",
      "('2021.02.01', '2021.02.28') ['20210201', '20210228']\n",
      "('2021.03.01', '2021.03.31') ['20210301', '20210331']\n",
      "('2021.04.01', '2021.04.30') ['20210401', '20210430']\n",
      "('2021.05.01', '2021.05.31') ['20210501', '20210531']\n",
      "('2021.06.01', '2021.06.30') ['20210601', '20210630']\n",
      "('2021.07.01', '2021.07.31') ['20210701', '20210731']\n",
      "('2021.08.01', '2021.08.31') ['20210801', '20210831']\n",
      "('2021.09.01', '2021.09.30') ['20210901', '20210930']\n",
      "('2021.10.01', '2021.10.31') ['20211001', '20211031']\n",
      "('2021.11.01', '2021.11.30') ['20211101', '20211130']\n",
      "('2021.12.01', '2021.12.31') ['20211201', '20211231']\n",
      "('2022.01.01', '2022.01.31') ['20220101', '20220131']\n",
      "('2022.02.01', '2022.02.28') ['20220201', '20220228']\n",
      "('2022.03.01', '2022.03.31') ['20220301', '20220331']\n",
      "('2022.04.01', '2022.04.30') ['20220401', '20220430']\n",
      "('2022.05.01', '2022.05.31') ['20220501', '20220531']\n",
      "('2022.06.01', '2022.06.30') ['20220601', '20220630']\n",
      "('2022.07.01', '2022.07.31') ['20220701', '20220731']\n",
      "('2022.08.01', '2022.08.31') ['20220801', '20220831']\n",
      "('2022.09.01', '2022.09.30') ['20220901', '20220930']\n",
      "('2022.10.01', '2022.10.31') ['20221001', '20221031']\n",
      "('2022.11.01', '2022.11.30') ['20221101', '20221130']\n",
      "('2022.12.01', '2022.12.31') ['20221201', '20221231']\n",
      "('2023.01.01', '2023.01.31') ['20230101', '20230131']\n",
      "('2023.02.01', '2023.02.28') ['20230201', '20230228']\n",
      "('2023.03.01', '2023.03.31') ['20230301', '20230331']\n",
      "('2023.04.01', '2023.04.30') ['20230401', '20230430']\n",
      "('2023.05.01', '2023.05.31') ['20230501', '20230531']\n",
      "('2023.06.01', '2023.06.30') ['20230601', '20230630']\n",
      "('2023.07.01', '2023.07.31') ['20230701', '20230731']\n",
      "('2023.08.01', '2023.08.31') ['20230801', '20230831']\n",
      "('2023.09.01', '2023.09.30') ['20230901', '20230930']\n",
      "('2023.10.01', '2023.10.31') ['20231001', '20231031']\n",
      "('2023.11.01', '2023.11.30') ['20231101', '20231130']\n",
      "('2023.12.01', '2023.12.31') ['20231201', '20231231']\n",
      "('2024.01.01', '2024.01.31') ['20240101', '20240131']\n",
      "('2024.02.01', '2024.02.29') ['20240201', '20240229']\n",
      "('2024.03.01', '2024.03.31') ['20240301', '20240331']\n",
      "('2024.04.01', '2024.04.30') ['20240401', '20240430']\n",
      "('2024.05.01', '2024.05.31') ['20240501', '20240531']\n",
      "('2024.06.01', '2024.06.30') ['20240601', '20240630']\n",
      "('2024.07.01', '2024.07.31') ['20240701', '20240731']\n",
      "('2024.08.01', '2024.08.31') ['20240801', '20240831']\n",
      "('2024.09.01', '2024.09.30') ['20240901', '20240930']\n",
      "('2024.10.01', '2024.10.31') ['20241001', '20241031']\n"
     ]
    }
   ],
   "source": [
    "for dt in tqdm(date_list):\n",
    "    dt1 = [dt[0].replace('.',''), dt[1].replace('.','')]\n",
    "    print(dt, dt1)"
   ]
  },
  {
   "cell_type": "code",
   "execution_count": null,
   "metadata": {},
   "outputs": [
    {
     "data": {
      "application/vnd.jupyter.widget-view+json": {
       "model_id": "80307f4c1dea423db534700632da5a67",
       "version_major": 2,
       "version_minor": 0
      },
      "text/plain": [
       "  0%|          | 0/82 [00:00<?, ?it/s]"
      ]
     },
     "metadata": {},
     "output_type": "display_data"
    }
   ],
   "source": [
    "keyword = '부동산'\n",
    "\n",
    "data = pd.DataFrame()\n",
    "for dt in tqdm(date_list):\n",
    "    dt1 = [dt[0].replace('.',''), dt[1].replace('.','')]\n",
    "\n",
    "    for num in range(1, 101, 10):\n",
    "        url = f'https://search.naver.com/search.naver?where=news&query={keyword}&sm=tab_opt&sort=0&photo=0&field=0&pd=3&ds={dt[0]}&de={dt[1]}&docid=&related=0&mynews=0&office_type=0&office_section_code=0&news_office_checked=&nso=so%3Ar%2Cp%3Afrom{dt1[0]}to{dt1[1]}&is_sug_officeid=0&office_category=0&service_area=1&start={num}'\n",
    "        \n",
    "        user_agent = generate_user_agent()\n",
    "        headers = {'user-Agent':user_agent}\n",
    "\n",
    "        res = requests.get(url, headers=headers)\n",
    "        time.sleep(random.random())\n",
    "        soup = bs(res.text, 'html.parser')\n",
    "\n",
    "        # 뉴스 타이틀\n",
    "        title = [i.text for i in soup.find_all('a', class_='news_tit')]\n",
    "        # 뉴스 링크\n",
    "        link = [i['href'] for i in soup.find_all('a', class_='news_tit')]\n",
    "        # 뉴스 언론사\n",
    "        press = [i.text for i in soup.find_all('a', class_='info press')]\n",
    "\n",
    "        temp = pd.DataFrame({'title':title, 'link':link, 'press':press, 'date_ym':dt1[0][:6]})\n",
    "        data = pd.concat([data,temp])"
   ]
  },
  {
   "cell_type": "code",
   "execution_count": null,
   "metadata": {},
   "outputs": [
    {
     "name": "stderr",
     "output_type": "stream",
     "text": [
      "<>:1: SyntaxWarning: invalid escape sequence '\\D'\n",
      "<>:1: SyntaxWarning: invalid escape sequence '\\D'\n",
      "C:\\Users\\User\\AppData\\Local\\Temp\\ipykernel_16400\\2251310781.py:1: SyntaxWarning: invalid escape sequence '\\D'\n",
      "  data.to_excel('C:\\\\Users\\\\User\\\\Desktop\\\\패스트 캠퍼스 데이터 마스터\\\\파이썬\\\\Part3) 파이썬 데이터 분석 실습\\Data\\\\실습7_ 직접 크롤링하기 - 부동산 뉴스기사 키워드 추출을 통한 연도별 이슈 분석\\\\news_data.xlsx')\n"
     ]
    }
   ],
   "source": [
    "data.to_excel('C:\\\\Users\\\\User\\\\Desktop\\\\패스트 캠퍼스 데이터 마스터\\\\파이썬\\\\Part3) 파이썬 데이터 분석 실습\\Data\\\\실습7_ 직접 크롤링하기 - 부동산 뉴스기사 키워드 추출을 통한 연도별 이슈 분석\\\\news_data.xlsx')"
   ]
  },
  {
   "cell_type": "code",
   "execution_count": null,
   "metadata": {},
   "outputs": [
    {
     "name": "stderr",
     "output_type": "stream",
     "text": [
      "<>:1: SyntaxWarning: invalid escape sequence '\\D'\n",
      "<>:1: SyntaxWarning: invalid escape sequence '\\D'\n",
      "C:\\Users\\User\\AppData\\Local\\Temp\\ipykernel_16400\\3035977554.py:1: SyntaxWarning: invalid escape sequence '\\D'\n",
      "  data = pd.read_excel('C:\\\\Users\\\\User\\\\Desktop\\\\패스트 캠퍼스 데이터 마스터\\\\파이썬\\\\Part3) 파이썬 데이터 분석 실습\\Data\\\\실습7_ 직접 크롤링하기 - 부동산 뉴스기사 키워드 추출을 통한 연도별 이슈 분석\\\\news_data.xlsx')\n"
     ]
    },
    {
     "data": {
      "text/html": [
       "<div>\n",
       "<style scoped>\n",
       "    .dataframe tbody tr th:only-of-type {\n",
       "        vertical-align: middle;\n",
       "    }\n",
       "\n",
       "    .dataframe tbody tr th {\n",
       "        vertical-align: top;\n",
       "    }\n",
       "\n",
       "    .dataframe thead th {\n",
       "        text-align: right;\n",
       "    }\n",
       "</style>\n",
       "<table border=\"1\" class=\"dataframe\">\n",
       "  <thead>\n",
       "    <tr style=\"text-align: right;\">\n",
       "      <th></th>\n",
       "      <th>Unnamed: 0</th>\n",
       "      <th>title</th>\n",
       "      <th>link</th>\n",
       "      <th>press</th>\n",
       "      <th>date_ym</th>\n",
       "    </tr>\n",
       "  </thead>\n",
       "  <tbody>\n",
       "    <tr>\n",
       "      <th>0</th>\n",
       "      <td>0</td>\n",
       "      <td>부자들 60% “부동산 규제에도 집 안 판다”</td>\n",
       "      <td>http://www.hankookilbo.com/v/26932a67d1b242f99...</td>\n",
       "      <td>한국일보언론사 선정</td>\n",
       "      <td>201801</td>\n",
       "    </tr>\n",
       "    <tr>\n",
       "      <th>1</th>\n",
       "      <td>1</td>\n",
       "      <td>\"파느니 물려준다\" 지난해 부동산 증여 28만2천건 역대 최대</td>\n",
       "      <td>http://app.yonhapnews.co.kr/YNA/Basic/SNS/r.as...</td>\n",
       "      <td>연합뉴스</td>\n",
       "      <td>201801</td>\n",
       "    </tr>\n",
       "    <tr>\n",
       "      <th>2</th>\n",
       "      <td>2</td>\n",
       "      <td>부동산 중개사이트 허위매물 제재한다</td>\n",
       "      <td>http://news.heraldcorp.com/view.php?ud=2018013...</td>\n",
       "      <td>헤럴드경제</td>\n",
       "      <td>201801</td>\n",
       "    </tr>\n",
       "    <tr>\n",
       "      <th>3</th>\n",
       "      <td>3</td>\n",
       "      <td>김현미 장관 \"부동산 침체 지역, '위축지역' 지정 검토\"</td>\n",
       "      <td>http://www.newsis.com/view/?id=NISX20180130_00...</td>\n",
       "      <td>뉴시스언론사 선정</td>\n",
       "      <td>201801</td>\n",
       "    </tr>\n",
       "    <tr>\n",
       "      <th>4</th>\n",
       "      <td>4</td>\n",
       "      <td>KB운용, 글로벌 대체투자 강화…해외부동산 전담본부 신설</td>\n",
       "      <td>http://news.mt.co.kr/mtview.php?no=20180131085...</td>\n",
       "      <td>머니투데이</td>\n",
       "      <td>201801</td>\n",
       "    </tr>\n",
       "    <tr>\n",
       "      <th>...</th>\n",
       "      <td>...</td>\n",
       "      <td>...</td>\n",
       "      <td>...</td>\n",
       "      <td>...</td>\n",
       "      <td>...</td>\n",
       "    </tr>\n",
       "    <tr>\n",
       "      <th>8195</th>\n",
       "      <td>5</td>\n",
       "      <td>강남서 '지분 쪼개기' 성행… 그린벨트 해제 앞두고 시끌</td>\n",
       "      <td>https://www.moneys.co.kr/article/2024103017085...</td>\n",
       "      <td>머니S언론사 선정</td>\n",
       "      <td>202410</td>\n",
       "    </tr>\n",
       "    <tr>\n",
       "      <th>8196</th>\n",
       "      <td>6</td>\n",
       "      <td>대출금리↑ 예금금리↓…지역부동산 발목잡는 ‘관치금융’</td>\n",
       "      <td>http://www.kookje.co.kr/news2011/asp/newsbody....</td>\n",
       "      <td>국제신문언론사 선정</td>\n",
       "      <td>202410</td>\n",
       "    </tr>\n",
       "    <tr>\n",
       "      <th>8197</th>\n",
       "      <td>7</td>\n",
       "      <td>서울 아파트값 주춤하는데...강남·재건축 단지는 신고가</td>\n",
       "      <td>http://www.segye.com/newsView/20241031519104?O...</td>\n",
       "      <td>세계일보언론사 선정</td>\n",
       "      <td>202410</td>\n",
       "    </tr>\n",
       "    <tr>\n",
       "      <th>8198</th>\n",
       "      <td>8</td>\n",
       "      <td>\"의사 아닌 부동산중개인이 털 이식수술?\"...부작용 끔찍, 스스로 목숨 ...</td>\n",
       "      <td>https://kormedi.com/?p=1732336</td>\n",
       "      <td>코메디닷컴언론사 선정</td>\n",
       "      <td>202410</td>\n",
       "    </tr>\n",
       "    <tr>\n",
       "      <th>8199</th>\n",
       "      <td>9</td>\n",
       "      <td>국내 최초 부동산 양도소득세 환급 조회…‘택스아이’ 출시</td>\n",
       "      <td>https://www.kmib.co.kr/article/view.asp?arcid=...</td>\n",
       "      <td>국민일보</td>\n",
       "      <td>202410</td>\n",
       "    </tr>\n",
       "  </tbody>\n",
       "</table>\n",
       "<p>8200 rows × 5 columns</p>\n",
       "</div>"
      ],
      "text/plain": [
       "      Unnamed: 0                                         title  \\\n",
       "0              0                     부자들 60% “부동산 규제에도 집 안 판다”   \n",
       "1              1            \"파느니 물려준다\" 지난해 부동산 증여 28만2천건 역대 최대   \n",
       "2              2                           부동산 중개사이트 허위매물 제재한다   \n",
       "3              3              김현미 장관 \"부동산 침체 지역, '위축지역' 지정 검토\"   \n",
       "4              4               KB운용, 글로벌 대체투자 강화…해외부동산 전담본부 신설   \n",
       "...          ...                                           ...   \n",
       "8195           5               강남서 '지분 쪼개기' 성행… 그린벨트 해제 앞두고 시끌   \n",
       "8196           6                 대출금리↑ 예금금리↓…지역부동산 발목잡는 ‘관치금융’   \n",
       "8197           7                서울 아파트값 주춤하는데...강남·재건축 단지는 신고가   \n",
       "8198           8  \"의사 아닌 부동산중개인이 털 이식수술?\"...부작용 끔찍, 스스로 목숨 ...   \n",
       "8199           9               국내 최초 부동산 양도소득세 환급 조회…‘택스아이’ 출시   \n",
       "\n",
       "                                                   link        press  date_ym  \n",
       "0     http://www.hankookilbo.com/v/26932a67d1b242f99...   한국일보언론사 선정   201801  \n",
       "1     http://app.yonhapnews.co.kr/YNA/Basic/SNS/r.as...         연합뉴스   201801  \n",
       "2     http://news.heraldcorp.com/view.php?ud=2018013...        헤럴드경제   201801  \n",
       "3     http://www.newsis.com/view/?id=NISX20180130_00...    뉴시스언론사 선정   201801  \n",
       "4     http://news.mt.co.kr/mtview.php?no=20180131085...        머니투데이   201801  \n",
       "...                                                 ...          ...      ...  \n",
       "8195  https://www.moneys.co.kr/article/2024103017085...    머니S언론사 선정   202410  \n",
       "8196  http://www.kookje.co.kr/news2011/asp/newsbody....   국제신문언론사 선정   202410  \n",
       "8197  http://www.segye.com/newsView/20241031519104?O...   세계일보언론사 선정   202410  \n",
       "8198                     https://kormedi.com/?p=1732336  코메디닷컴언론사 선정   202410  \n",
       "8199  https://www.kmib.co.kr/article/view.asp?arcid=...         국민일보   202410  \n",
       "\n",
       "[8200 rows x 5 columns]"
      ]
     },
     "execution_count": 55,
     "metadata": {},
     "output_type": "execute_result"
    }
   ],
   "source": [
    "data = pd.read_excel('C:\\\\Users\\\\User\\\\Desktop\\\\패스트 캠퍼스 데이터 마스터\\\\파이썬\\\\Part3) 파이썬 데이터 분석 실습\\Data\\\\실습7_ 직접 크롤링하기 - 부동산 뉴스기사 키워드 추출을 통한 연도별 이슈 분석\\\\news_data.xlsx')\n",
    "data"
   ]
  },
  {
   "cell_type": "code",
   "execution_count": null,
   "metadata": {},
   "outputs": [],
   "source": [
    "data.drop('Unnamed: 0',axis=1, inplace=True)"
   ]
  },
  {
   "cell_type": "code",
   "execution_count": null,
   "metadata": {},
   "outputs": [],
   "source": [
    "data['date_ym'] = data['date_ym'].astype(str)"
   ]
  },
  {
   "cell_type": "markdown",
   "metadata": {},
   "source": [
    "## **질문 만들기**"
   ]
  },
  {
   "cell_type": "markdown",
   "metadata": {},
   "source": [
    "- 연도별로 부동산 전망에 대한 뉴스 키워드는 어떻게 변화했는가?\n",
    "    - 워드클라우드로 시각화"
   ]
  },
  {
   "cell_type": "markdown",
   "metadata": {},
   "source": [
    "## **데이터 전처리**"
   ]
  },
  {
   "cell_type": "markdown",
   "metadata": {},
   "source": [
    "- 필요 없는 컬럼 제거 및 데이터 타입 변경"
   ]
  },
  {
   "cell_type": "code",
   "execution_count": null,
   "metadata": {},
   "outputs": [
    {
     "name": "stderr",
     "output_type": "stream",
     "text": [
      "<>:1: SyntaxWarning: invalid escape sequence '\\D'\n",
      "<>:1: SyntaxWarning: invalid escape sequence '\\D'\n",
      "C:\\Users\\User\\AppData\\Local\\Temp\\ipykernel_16400\\1355907361.py:1: SyntaxWarning: invalid escape sequence '\\D'\n",
      "  data = pd.read_excel('C:\\\\Users\\\\User\\\\Desktop\\\\패스트 캠퍼스 데이터 마스터\\\\파이썬\\\\Part3) 파이썬 데이터 분석 실습\\Data\\\\실습7_ 직접 크롤링하기 - 부동산 뉴스기사 키워드 추출을 통한 연도별 이슈 분석\\\\news_data.xlsx')\n"
     ]
    },
    {
     "data": {
      "text/html": [
       "<div>\n",
       "<style scoped>\n",
       "    .dataframe tbody tr th:only-of-type {\n",
       "        vertical-align: middle;\n",
       "    }\n",
       "\n",
       "    .dataframe tbody tr th {\n",
       "        vertical-align: top;\n",
       "    }\n",
       "\n",
       "    .dataframe thead th {\n",
       "        text-align: right;\n",
       "    }\n",
       "</style>\n",
       "<table border=\"1\" class=\"dataframe\">\n",
       "  <thead>\n",
       "    <tr style=\"text-align: right;\">\n",
       "      <th></th>\n",
       "      <th>Unnamed: 0</th>\n",
       "      <th>title</th>\n",
       "      <th>link</th>\n",
       "      <th>press</th>\n",
       "      <th>date_ym</th>\n",
       "    </tr>\n",
       "  </thead>\n",
       "  <tbody>\n",
       "    <tr>\n",
       "      <th>0</th>\n",
       "      <td>0</td>\n",
       "      <td>부자들 60% “부동산 규제에도 집 안 판다”</td>\n",
       "      <td>http://www.hankookilbo.com/v/26932a67d1b242f99...</td>\n",
       "      <td>한국일보언론사 선정</td>\n",
       "      <td>201801</td>\n",
       "    </tr>\n",
       "    <tr>\n",
       "      <th>1</th>\n",
       "      <td>1</td>\n",
       "      <td>\"파느니 물려준다\" 지난해 부동산 증여 28만2천건 역대 최대</td>\n",
       "      <td>http://app.yonhapnews.co.kr/YNA/Basic/SNS/r.as...</td>\n",
       "      <td>연합뉴스</td>\n",
       "      <td>201801</td>\n",
       "    </tr>\n",
       "    <tr>\n",
       "      <th>2</th>\n",
       "      <td>2</td>\n",
       "      <td>부동산 중개사이트 허위매물 제재한다</td>\n",
       "      <td>http://news.heraldcorp.com/view.php?ud=2018013...</td>\n",
       "      <td>헤럴드경제</td>\n",
       "      <td>201801</td>\n",
       "    </tr>\n",
       "    <tr>\n",
       "      <th>3</th>\n",
       "      <td>3</td>\n",
       "      <td>김현미 장관 \"부동산 침체 지역, '위축지역' 지정 검토\"</td>\n",
       "      <td>http://www.newsis.com/view/?id=NISX20180130_00...</td>\n",
       "      <td>뉴시스언론사 선정</td>\n",
       "      <td>201801</td>\n",
       "    </tr>\n",
       "    <tr>\n",
       "      <th>4</th>\n",
       "      <td>4</td>\n",
       "      <td>KB운용, 글로벌 대체투자 강화…해외부동산 전담본부 신설</td>\n",
       "      <td>http://news.mt.co.kr/mtview.php?no=20180131085...</td>\n",
       "      <td>머니투데이</td>\n",
       "      <td>201801</td>\n",
       "    </tr>\n",
       "  </tbody>\n",
       "</table>\n",
       "</div>"
      ],
      "text/plain": [
       "   Unnamed: 0                               title  \\\n",
       "0           0           부자들 60% “부동산 규제에도 집 안 판다”   \n",
       "1           1  \"파느니 물려준다\" 지난해 부동산 증여 28만2천건 역대 최대   \n",
       "2           2                 부동산 중개사이트 허위매물 제재한다   \n",
       "3           3    김현미 장관 \"부동산 침체 지역, '위축지역' 지정 검토\"   \n",
       "4           4     KB운용, 글로벌 대체투자 강화…해외부동산 전담본부 신설   \n",
       "\n",
       "                                                link       press  date_ym  \n",
       "0  http://www.hankookilbo.com/v/26932a67d1b242f99...  한국일보언론사 선정   201801  \n",
       "1  http://app.yonhapnews.co.kr/YNA/Basic/SNS/r.as...        연합뉴스   201801  \n",
       "2  http://news.heraldcorp.com/view.php?ud=2018013...       헤럴드경제   201801  \n",
       "3  http://www.newsis.com/view/?id=NISX20180130_00...   뉴시스언론사 선정   201801  \n",
       "4  http://news.mt.co.kr/mtview.php?no=20180131085...       머니투데이   201801  "
      ]
     },
     "execution_count": 60,
     "metadata": {},
     "output_type": "execute_result"
    }
   ],
   "source": [
    "data = pd.read_excel('C:\\\\Users\\\\User\\\\Desktop\\\\패스트 캠퍼스 데이터 마스터\\\\파이썬\\\\Part3) 파이썬 데이터 분석 실습\\Data\\\\실습7_ 직접 크롤링하기 - 부동산 뉴스기사 키워드 추출을 통한 연도별 이슈 분석\\\\news_data.xlsx')\n",
    "data.head()"
   ]
  },
  {
   "cell_type": "code",
   "execution_count": null,
   "metadata": {},
   "outputs": [],
   "source": [
    "data.drop('Unnamed: 0',axis=1, inplace=True)"
   ]
  },
  {
   "cell_type": "code",
   "execution_count": null,
   "metadata": {},
   "outputs": [],
   "source": [
    "data['date_ym'] = data['date_ym'].astype(str)"
   ]
  },
  {
   "cell_type": "code",
   "execution_count": null,
   "metadata": {},
   "outputs": [
    {
     "name": "stdout",
     "output_type": "stream",
     "text": [
      "<class 'pandas.core.frame.DataFrame'>\n",
      "RangeIndex: 8200 entries, 0 to 8199\n",
      "Data columns (total 2 columns):\n",
      " #   Column   Non-Null Count  Dtype \n",
      "---  ------   --------------  ----- \n",
      " 0   title    8200 non-null   object\n",
      " 1   date_ym  8200 non-null   object\n",
      "dtypes: object(2)\n",
      "memory usage: 128.3+ KB\n"
     ]
    },
    {
     "data": {
      "text/html": [
       "<div>\n",
       "<style scoped>\n",
       "    .dataframe tbody tr th:only-of-type {\n",
       "        vertical-align: middle;\n",
       "    }\n",
       "\n",
       "    .dataframe tbody tr th {\n",
       "        vertical-align: top;\n",
       "    }\n",
       "\n",
       "    .dataframe thead th {\n",
       "        text-align: right;\n",
       "    }\n",
       "</style>\n",
       "<table border=\"1\" class=\"dataframe\">\n",
       "  <thead>\n",
       "    <tr style=\"text-align: right;\">\n",
       "      <th></th>\n",
       "      <th>title</th>\n",
       "      <th>date_ym</th>\n",
       "    </tr>\n",
       "  </thead>\n",
       "  <tbody>\n",
       "    <tr>\n",
       "      <th>0</th>\n",
       "      <td>부자들 60% “부동산 규제에도 집 안 판다”</td>\n",
       "      <td>201801</td>\n",
       "    </tr>\n",
       "    <tr>\n",
       "      <th>1</th>\n",
       "      <td>\"파느니 물려준다\" 지난해 부동산 증여 28만2천건 역대 최대</td>\n",
       "      <td>201801</td>\n",
       "    </tr>\n",
       "    <tr>\n",
       "      <th>2</th>\n",
       "      <td>부동산 중개사이트 허위매물 제재한다</td>\n",
       "      <td>201801</td>\n",
       "    </tr>\n",
       "    <tr>\n",
       "      <th>3</th>\n",
       "      <td>김현미 장관 \"부동산 침체 지역, '위축지역' 지정 검토\"</td>\n",
       "      <td>201801</td>\n",
       "    </tr>\n",
       "    <tr>\n",
       "      <th>4</th>\n",
       "      <td>KB운용, 글로벌 대체투자 강화…해외부동산 전담본부 신설</td>\n",
       "      <td>201801</td>\n",
       "    </tr>\n",
       "  </tbody>\n",
       "</table>\n",
       "</div>"
      ],
      "text/plain": [
       "                                title date_ym\n",
       "0           부자들 60% “부동산 규제에도 집 안 판다”  201801\n",
       "1  \"파느니 물려준다\" 지난해 부동산 증여 28만2천건 역대 최대  201801\n",
       "2                 부동산 중개사이트 허위매물 제재한다  201801\n",
       "3    김현미 장관 \"부동산 침체 지역, '위축지역' 지정 검토\"  201801\n",
       "4     KB운용, 글로벌 대체투자 강화…해외부동산 전담본부 신설  201801"
      ]
     },
     "execution_count": 65,
     "metadata": {},
     "output_type": "execute_result"
    }
   ],
   "source": [
    "data = data[['title', 'date_ym']]\n",
    "\n",
    "data.info()\n",
    "data.head()"
   ]
  },
  {
   "cell_type": "code",
   "execution_count": null,
   "metadata": {},
   "outputs": [
    {
     "name": "stdout",
     "output_type": "stream",
     "text": [
      "Requirement already satisfied: mecab-python3 in c:\\python312\\lib\\site-packages (1.0.10)\n",
      "Note: you may need to restart the kernel to use updated packages.\n"
     ]
    },
    {
     "name": "stderr",
     "output_type": "stream",
     "text": [
      "WARNING: Ignoring invalid distribution ~ (c:\\Python312\\Lib\\site-packages)\n",
      "WARNING: Ignoring invalid distribution ~-p (c:\\Python312\\Lib\\site-packages)\n",
      "WARNING: Ignoring invalid distribution ~ip (c:\\Python312\\Lib\\site-packages)\n",
      "WARNING: Ignoring invalid distribution ~lotly (c:\\Python312\\Lib\\site-packages)\n",
      "WARNING: Ignoring invalid distribution ~~p (c:\\Python312\\Lib\\site-packages)\n",
      "WARNING: Ignoring invalid distribution ~ (c:\\Python312\\Lib\\site-packages)\n",
      "WARNING: Ignoring invalid distribution ~-p (c:\\Python312\\Lib\\site-packages)\n",
      "WARNING: Ignoring invalid distribution ~ip (c:\\Python312\\Lib\\site-packages)\n",
      "WARNING: Ignoring invalid distribution ~lotly (c:\\Python312\\Lib\\site-packages)\n",
      "WARNING: Ignoring invalid distribution ~~p (c:\\Python312\\Lib\\site-packages)\n",
      "WARNING: Ignoring invalid distribution ~ (c:\\Python312\\Lib\\site-packages)\n",
      "WARNING: Ignoring invalid distribution ~-p (c:\\Python312\\Lib\\site-packages)\n",
      "WARNING: Ignoring invalid distribution ~ip (c:\\Python312\\Lib\\site-packages)\n",
      "WARNING: Ignoring invalid distribution ~lotly (c:\\Python312\\Lib\\site-packages)\n",
      "WARNING: Ignoring invalid distribution ~~p (c:\\Python312\\Lib\\site-packages)\n"
     ]
    },
    {
     "name": "stdout",
     "output_type": "stream",
     "text": [
      "Requirement already satisfied: konlpy in c:\\python312\\lib\\site-packages (0.6.0)\n",
      "Requirement already satisfied: JPype1>=0.7.0 in c:\\python312\\lib\\site-packages (from konlpy) (1.5.0)\n",
      "Requirement already satisfied: lxml>=4.1.0 in c:\\python312\\lib\\site-packages (from konlpy) (5.2.1)\n",
      "Requirement already satisfied: numpy>=1.6 in c:\\python312\\lib\\site-packages (from konlpy) (1.26.4)\n",
      "Requirement already satisfied: packaging in c:\\python312\\lib\\site-packages (from JPype1>=0.7.0->konlpy) (24.0)\n",
      "Note: you may need to restart the kernel to use updated packages.\n"
     ]
    },
    {
     "name": "stderr",
     "output_type": "stream",
     "text": [
      "WARNING: Ignoring invalid distribution ~ (c:\\Python312\\Lib\\site-packages)\n",
      "WARNING: Ignoring invalid distribution ~-p (c:\\Python312\\Lib\\site-packages)\n",
      "WARNING: Ignoring invalid distribution ~ip (c:\\Python312\\Lib\\site-packages)\n",
      "WARNING: Ignoring invalid distribution ~lotly (c:\\Python312\\Lib\\site-packages)\n",
      "WARNING: Ignoring invalid distribution ~~p (c:\\Python312\\Lib\\site-packages)\n",
      "WARNING: Ignoring invalid distribution ~ (c:\\Python312\\Lib\\site-packages)\n",
      "WARNING: Ignoring invalid distribution ~-p (c:\\Python312\\Lib\\site-packages)\n",
      "WARNING: Ignoring invalid distribution ~ip (c:\\Python312\\Lib\\site-packages)\n",
      "WARNING: Ignoring invalid distribution ~lotly (c:\\Python312\\Lib\\site-packages)\n",
      "WARNING: Ignoring invalid distribution ~~p (c:\\Python312\\Lib\\site-packages)\n",
      "WARNING: Ignoring invalid distribution ~ (c:\\Python312\\Lib\\site-packages)\n",
      "WARNING: Ignoring invalid distribution ~-p (c:\\Python312\\Lib\\site-packages)\n",
      "WARNING: Ignoring invalid distribution ~ip (c:\\Python312\\Lib\\site-packages)\n",
      "WARNING: Ignoring invalid distribution ~lotly (c:\\Python312\\Lib\\site-packages)\n",
      "WARNING: Ignoring invalid distribution ~~p (c:\\Python312\\Lib\\site-packages)\n"
     ]
    }
   ],
   "source": [
    "%pip install mecab-python3\n",
    "%pip install konlpy"
   ]
  },
  {
   "cell_type": "markdown",
   "metadata": {},
   "source": [
    "- 형태소 분석"
   ]
  },
  {
   "cell_type": "code",
   "execution_count": null,
   "metadata": {},
   "outputs": [
    {
     "ename": "Exception",
     "evalue": "The MeCab dictionary does not exist at \"/usr/local/lib/mecab/dic/mecab-ko-dic\". Is the dictionary correctly installed?\nYou can also try entering the dictionary path when initializing the Mecab class: \"Mecab('/some/dic/path')\"",
     "output_type": "error",
     "traceback": [
      "\u001b[1;31m---------------------------------------------------------------------------\u001b[0m",
      "\u001b[1;31mRuntimeError\u001b[0m                              Traceback (most recent call last)",
      "File \u001b[1;32mc:\\Python312\\Lib\\site-packages\\MeCab\\__init__.py:137\u001b[0m, in \u001b[0;36mTagger.__init__\u001b[1;34m(self, rawargs)\u001b[0m\n\u001b[0;32m    136\u001b[0m \u001b[38;5;28;01mtry\u001b[39;00m:\n\u001b[1;32m--> 137\u001b[0m     \u001b[38;5;28;43msuper\u001b[39;49m\u001b[43m(\u001b[49m\u001b[43mTagger\u001b[49m\u001b[43m,\u001b[49m\u001b[43m \u001b[49m\u001b[38;5;28;43mself\u001b[39;49m\u001b[43m)\u001b[49m\u001b[38;5;241;43m.\u001b[39;49m\u001b[38;5;21;43m__init__\u001b[39;49m\u001b[43m(\u001b[49m\u001b[43margs\u001b[49m\u001b[43m)\u001b[49m\n\u001b[0;32m    138\u001b[0m \u001b[38;5;28;01mexcept\u001b[39;00m \u001b[38;5;167;01mRuntimeError\u001b[39;00m \u001b[38;5;28;01mas\u001b[39;00m ee:\n",
      "\u001b[1;31mRuntimeError\u001b[0m: Unknown Error",
      "\nThe above exception was the direct cause of the following exception:\n",
      "\u001b[1;31mRuntimeError\u001b[0m                              Traceback (most recent call last)",
      "File \u001b[1;32mc:\\Python312\\Lib\\site-packages\\konlpy\\tag\\_mecab.py:77\u001b[0m, in \u001b[0;36mMecab.__init__\u001b[1;34m(self, dicpath)\u001b[0m\n\u001b[0;32m     76\u001b[0m \u001b[38;5;28;01mtry\u001b[39;00m:\n\u001b[1;32m---> 77\u001b[0m     \u001b[38;5;28mself\u001b[39m\u001b[38;5;241m.\u001b[39mtagger \u001b[38;5;241m=\u001b[39m \u001b[43mTagger\u001b[49m\u001b[43m(\u001b[49m\u001b[38;5;124;43m'\u001b[39;49m\u001b[38;5;124;43m-d \u001b[39;49m\u001b[38;5;132;43;01m%s\u001b[39;49;00m\u001b[38;5;124;43m'\u001b[39;49m\u001b[43m \u001b[49m\u001b[38;5;241;43m%\u001b[39;49m\u001b[43m \u001b[49m\u001b[43mdicpath\u001b[49m\u001b[43m)\u001b[49m\n\u001b[0;32m     78\u001b[0m     \u001b[38;5;28mself\u001b[39m\u001b[38;5;241m.\u001b[39mtagset \u001b[38;5;241m=\u001b[39m utils\u001b[38;5;241m.\u001b[39mread_json(\u001b[38;5;124m'\u001b[39m\u001b[38;5;132;01m%s\u001b[39;00m\u001b[38;5;124m/data/tagset/mecab.json\u001b[39m\u001b[38;5;124m'\u001b[39m \u001b[38;5;241m%\u001b[39m utils\u001b[38;5;241m.\u001b[39minstallpath)\n",
      "File \u001b[1;32mc:\\Python312\\Lib\\site-packages\\MeCab\\__init__.py:139\u001b[0m, in \u001b[0;36mTagger.__init__\u001b[1;34m(self, rawargs)\u001b[0m\n\u001b[0;32m    138\u001b[0m \u001b[38;5;28;01mexcept\u001b[39;00m \u001b[38;5;167;01mRuntimeError\u001b[39;00m \u001b[38;5;28;01mas\u001b[39;00m ee:\n\u001b[1;32m--> 139\u001b[0m     \u001b[38;5;28;01mraise\u001b[39;00m \u001b[38;5;167;01mRuntimeError\u001b[39;00m(error_info(rawargs)) \u001b[38;5;28;01mfrom\u001b[39;00m \u001b[38;5;21;01mee\u001b[39;00m\n",
      "\u001b[1;31mRuntimeError\u001b[0m: \n----------------------------------------------------------\n\nFailed initializing MeCab. Please see the README for possible solutions:\n\n    https://github.com/SamuraiT/mecab-python3#common-issues\n\nIf you are still having trouble, please file an issue here, and include the\nERROR DETAILS below:\n\n    https://github.com/SamuraiT/mecab-python3/issues\n\nissueを英語で書く必要はありません。\n\n------------------- ERROR DETAILS ------------------------\narguments: -d /usr/local/lib/mecab/dic/mecab-ko-dic\ndefault dictionary path: None\n\n----------------------------------------------------------\n",
      "\nDuring handling of the above exception, another exception occurred:\n",
      "\u001b[1;31mException\u001b[0m                                 Traceback (most recent call last)",
      "Cell \u001b[1;32mIn[80], line 3\u001b[0m\n\u001b[0;32m      1\u001b[0m \u001b[38;5;28;01mfrom\u001b[39;00m \u001b[38;5;21;01mkonlpy\u001b[39;00m\u001b[38;5;21;01m.\u001b[39;00m\u001b[38;5;21;01mtag\u001b[39;00m \u001b[38;5;28;01mimport\u001b[39;00m Mecab\n\u001b[1;32m----> 3\u001b[0m mecab \u001b[38;5;241m=\u001b[39m \u001b[43mMecab\u001b[49m\u001b[43m(\u001b[49m\u001b[43m)\u001b[49m\n",
      "File \u001b[1;32mc:\\Python312\\Lib\\site-packages\\konlpy\\tag\\_mecab.py:80\u001b[0m, in \u001b[0;36mMecab.__init__\u001b[1;34m(self, dicpath)\u001b[0m\n\u001b[0;32m     78\u001b[0m     \u001b[38;5;28mself\u001b[39m\u001b[38;5;241m.\u001b[39mtagset \u001b[38;5;241m=\u001b[39m utils\u001b[38;5;241m.\u001b[39mread_json(\u001b[38;5;124m'\u001b[39m\u001b[38;5;132;01m%s\u001b[39;00m\u001b[38;5;124m/data/tagset/mecab.json\u001b[39m\u001b[38;5;124m'\u001b[39m \u001b[38;5;241m%\u001b[39m utils\u001b[38;5;241m.\u001b[39minstallpath)\n\u001b[0;32m     79\u001b[0m \u001b[38;5;28;01mexcept\u001b[39;00m \u001b[38;5;167;01mRuntimeError\u001b[39;00m:\n\u001b[1;32m---> 80\u001b[0m     \u001b[38;5;28;01mraise\u001b[39;00m \u001b[38;5;167;01mException\u001b[39;00m(\u001b[38;5;124m'\u001b[39m\u001b[38;5;124mThe MeCab dictionary does not exist at \u001b[39m\u001b[38;5;124m\"\u001b[39m\u001b[38;5;132;01m%s\u001b[39;00m\u001b[38;5;124m\"\u001b[39m\u001b[38;5;124m. Is the dictionary correctly installed?\u001b[39m\u001b[38;5;130;01m\\n\u001b[39;00m\u001b[38;5;124mYou can also try entering the dictionary path when initializing the Mecab class: \u001b[39m\u001b[38;5;124m\"\u001b[39m\u001b[38;5;124mMecab(\u001b[39m\u001b[38;5;130;01m\\'\u001b[39;00m\u001b[38;5;124m/some/dic/path\u001b[39m\u001b[38;5;130;01m\\'\u001b[39;00m\u001b[38;5;124m)\u001b[39m\u001b[38;5;124m\"\u001b[39m\u001b[38;5;124m'\u001b[39m \u001b[38;5;241m%\u001b[39m dicpath)\n\u001b[0;32m     81\u001b[0m \u001b[38;5;28;01mexcept\u001b[39;00m \u001b[38;5;167;01mNameError\u001b[39;00m:\n\u001b[0;32m     82\u001b[0m     \u001b[38;5;28;01mraise\u001b[39;00m \u001b[38;5;167;01mException\u001b[39;00m(\u001b[38;5;124m'\u001b[39m\u001b[38;5;124mInstall MeCab in order to use it: http://konlpy.org/en/latest/install/\u001b[39m\u001b[38;5;124m'\u001b[39m)\n",
      "\u001b[1;31mException\u001b[0m: The MeCab dictionary does not exist at \"/usr/local/lib/mecab/dic/mecab-ko-dic\". Is the dictionary correctly installed?\nYou can also try entering the dictionary path when initializing the Mecab class: \"Mecab('/some/dic/path')\""
     ]
    }
   ],
   "source": [
    "from konlpy.tag import Mecab\n",
    "\n",
    "mecab = Mecab()"
   ]
  },
  {
   "cell_type": "code",
   "execution_count": null,
   "metadata": {},
   "outputs": [
    {
     "ename": "NameError",
     "evalue": "name 'mecab' is not defined",
     "output_type": "error",
     "traceback": [
      "\u001b[1;31m---------------------------------------------------------------------------\u001b[0m",
      "\u001b[1;31mNameError\u001b[0m                                 Traceback (most recent call last)",
      "Cell \u001b[1;32mIn[73], line 1\u001b[0m\n\u001b[1;32m----> 1\u001b[0m data[\u001b[38;5;124m'\u001b[39m\u001b[38;5;124mNNG\u001b[39m\u001b[38;5;124m'\u001b[39m] \u001b[38;5;241m=\u001b[39m \u001b[43mdata\u001b[49m\u001b[43m[\u001b[49m\u001b[38;5;124;43m'\u001b[39;49m\u001b[38;5;124;43mtitle\u001b[39;49m\u001b[38;5;124;43m'\u001b[39;49m\u001b[43m]\u001b[49m\u001b[38;5;241;43m.\u001b[39;49m\u001b[43mapply\u001b[49m\u001b[43m(\u001b[49m\u001b[38;5;28;43;01mlambda\u001b[39;49;00m\u001b[43m \u001b[49m\u001b[43mx\u001b[49m\u001b[43m:\u001b[49m\u001b[43m \u001b[49m\u001b[43m[\u001b[49m\u001b[43mi\u001b[49m\u001b[43m[\u001b[49m\u001b[38;5;241;43m0\u001b[39;49m\u001b[43m]\u001b[49m\u001b[43m \u001b[49m\u001b[38;5;28;43;01mfor\u001b[39;49;00m\u001b[43m \u001b[49m\u001b[43mi\u001b[49m\u001b[43m \u001b[49m\u001b[38;5;129;43;01min\u001b[39;49;00m\u001b[43m \u001b[49m\u001b[43mmecab\u001b[49m\u001b[38;5;241;43m.\u001b[39;49m\u001b[43mpos\u001b[49m\u001b[43m(\u001b[49m\u001b[43mx\u001b[49m\u001b[43m)\u001b[49m\u001b[43m \u001b[49m\u001b[38;5;28;43;01mif\u001b[39;49;00m\u001b[43m \u001b[49m\u001b[43mi\u001b[49m\u001b[43m[\u001b[49m\u001b[43mi\u001b[49m\u001b[43m]\u001b[49m\u001b[43m \u001b[49m\u001b[38;5;129;43;01min\u001b[39;49;00m\u001b[43m \u001b[49m\u001b[43m(\u001b[49m\u001b[38;5;124;43m'\u001b[39;49m\u001b[38;5;124;43mNNG\u001b[39;49m\u001b[38;5;124;43m'\u001b[39;49m\u001b[43m)\u001b[49m\u001b[43m]\u001b[49m\u001b[43m)\u001b[49m\n",
      "File \u001b[1;32mc:\\Python312\\Lib\\site-packages\\pandas\\core\\series.py:4915\u001b[0m, in \u001b[0;36mSeries.apply\u001b[1;34m(self, func, convert_dtype, args, by_row, **kwargs)\u001b[0m\n\u001b[0;32m   4780\u001b[0m \u001b[38;5;28;01mdef\u001b[39;00m \u001b[38;5;21mapply\u001b[39m(\n\u001b[0;32m   4781\u001b[0m     \u001b[38;5;28mself\u001b[39m,\n\u001b[0;32m   4782\u001b[0m     func: AggFuncType,\n\u001b[1;32m   (...)\u001b[0m\n\u001b[0;32m   4787\u001b[0m     \u001b[38;5;241m*\u001b[39m\u001b[38;5;241m*\u001b[39mkwargs,\n\u001b[0;32m   4788\u001b[0m ) \u001b[38;5;241m-\u001b[39m\u001b[38;5;241m>\u001b[39m DataFrame \u001b[38;5;241m|\u001b[39m Series:\n\u001b[0;32m   4789\u001b[0m \u001b[38;5;250m    \u001b[39m\u001b[38;5;124;03m\"\"\"\u001b[39;00m\n\u001b[0;32m   4790\u001b[0m \u001b[38;5;124;03m    Invoke function on values of Series.\u001b[39;00m\n\u001b[0;32m   4791\u001b[0m \n\u001b[1;32m   (...)\u001b[0m\n\u001b[0;32m   4906\u001b[0m \u001b[38;5;124;03m    dtype: float64\u001b[39;00m\n\u001b[0;32m   4907\u001b[0m \u001b[38;5;124;03m    \"\"\"\u001b[39;00m\n\u001b[0;32m   4908\u001b[0m     \u001b[38;5;28;01mreturn\u001b[39;00m \u001b[43mSeriesApply\u001b[49m\u001b[43m(\u001b[49m\n\u001b[0;32m   4909\u001b[0m \u001b[43m        \u001b[49m\u001b[38;5;28;43mself\u001b[39;49m\u001b[43m,\u001b[49m\n\u001b[0;32m   4910\u001b[0m \u001b[43m        \u001b[49m\u001b[43mfunc\u001b[49m\u001b[43m,\u001b[49m\n\u001b[0;32m   4911\u001b[0m \u001b[43m        \u001b[49m\u001b[43mconvert_dtype\u001b[49m\u001b[38;5;241;43m=\u001b[39;49m\u001b[43mconvert_dtype\u001b[49m\u001b[43m,\u001b[49m\n\u001b[0;32m   4912\u001b[0m \u001b[43m        \u001b[49m\u001b[43mby_row\u001b[49m\u001b[38;5;241;43m=\u001b[39;49m\u001b[43mby_row\u001b[49m\u001b[43m,\u001b[49m\n\u001b[0;32m   4913\u001b[0m \u001b[43m        \u001b[49m\u001b[43margs\u001b[49m\u001b[38;5;241;43m=\u001b[39;49m\u001b[43margs\u001b[49m\u001b[43m,\u001b[49m\n\u001b[0;32m   4914\u001b[0m \u001b[43m        \u001b[49m\u001b[43mkwargs\u001b[49m\u001b[38;5;241;43m=\u001b[39;49m\u001b[43mkwargs\u001b[49m\u001b[43m,\u001b[49m\n\u001b[1;32m-> 4915\u001b[0m \u001b[43m    \u001b[49m\u001b[43m)\u001b[49m\u001b[38;5;241;43m.\u001b[39;49m\u001b[43mapply\u001b[49m\u001b[43m(\u001b[49m\u001b[43m)\u001b[49m\n",
      "File \u001b[1;32mc:\\Python312\\Lib\\site-packages\\pandas\\core\\apply.py:1427\u001b[0m, in \u001b[0;36mSeriesApply.apply\u001b[1;34m(self)\u001b[0m\n\u001b[0;32m   1424\u001b[0m     \u001b[38;5;28;01mreturn\u001b[39;00m \u001b[38;5;28mself\u001b[39m\u001b[38;5;241m.\u001b[39mapply_compat()\n\u001b[0;32m   1426\u001b[0m \u001b[38;5;66;03m# self.func is Callable\u001b[39;00m\n\u001b[1;32m-> 1427\u001b[0m \u001b[38;5;28;01mreturn\u001b[39;00m \u001b[38;5;28;43mself\u001b[39;49m\u001b[38;5;241;43m.\u001b[39;49m\u001b[43mapply_standard\u001b[49m\u001b[43m(\u001b[49m\u001b[43m)\u001b[49m\n",
      "File \u001b[1;32mc:\\Python312\\Lib\\site-packages\\pandas\\core\\apply.py:1507\u001b[0m, in \u001b[0;36mSeriesApply.apply_standard\u001b[1;34m(self)\u001b[0m\n\u001b[0;32m   1501\u001b[0m \u001b[38;5;66;03m# row-wise access\u001b[39;00m\n\u001b[0;32m   1502\u001b[0m \u001b[38;5;66;03m# apply doesn't have a `na_action` keyword and for backward compat reasons\u001b[39;00m\n\u001b[0;32m   1503\u001b[0m \u001b[38;5;66;03m# we need to give `na_action=\"ignore\"` for categorical data.\u001b[39;00m\n\u001b[0;32m   1504\u001b[0m \u001b[38;5;66;03m# TODO: remove the `na_action=\"ignore\"` when that default has been changed in\u001b[39;00m\n\u001b[0;32m   1505\u001b[0m \u001b[38;5;66;03m#  Categorical (GH51645).\u001b[39;00m\n\u001b[0;32m   1506\u001b[0m action \u001b[38;5;241m=\u001b[39m \u001b[38;5;124m\"\u001b[39m\u001b[38;5;124mignore\u001b[39m\u001b[38;5;124m\"\u001b[39m \u001b[38;5;28;01mif\u001b[39;00m \u001b[38;5;28misinstance\u001b[39m(obj\u001b[38;5;241m.\u001b[39mdtype, CategoricalDtype) \u001b[38;5;28;01melse\u001b[39;00m \u001b[38;5;28;01mNone\u001b[39;00m\n\u001b[1;32m-> 1507\u001b[0m mapped \u001b[38;5;241m=\u001b[39m \u001b[43mobj\u001b[49m\u001b[38;5;241;43m.\u001b[39;49m\u001b[43m_map_values\u001b[49m\u001b[43m(\u001b[49m\n\u001b[0;32m   1508\u001b[0m \u001b[43m    \u001b[49m\u001b[43mmapper\u001b[49m\u001b[38;5;241;43m=\u001b[39;49m\u001b[43mcurried\u001b[49m\u001b[43m,\u001b[49m\u001b[43m \u001b[49m\u001b[43mna_action\u001b[49m\u001b[38;5;241;43m=\u001b[39;49m\u001b[43maction\u001b[49m\u001b[43m,\u001b[49m\u001b[43m \u001b[49m\u001b[43mconvert\u001b[49m\u001b[38;5;241;43m=\u001b[39;49m\u001b[38;5;28;43mself\u001b[39;49m\u001b[38;5;241;43m.\u001b[39;49m\u001b[43mconvert_dtype\u001b[49m\n\u001b[0;32m   1509\u001b[0m \u001b[43m\u001b[49m\u001b[43m)\u001b[49m\n\u001b[0;32m   1511\u001b[0m \u001b[38;5;28;01mif\u001b[39;00m \u001b[38;5;28mlen\u001b[39m(mapped) \u001b[38;5;129;01mand\u001b[39;00m \u001b[38;5;28misinstance\u001b[39m(mapped[\u001b[38;5;241m0\u001b[39m], ABCSeries):\n\u001b[0;32m   1512\u001b[0m     \u001b[38;5;66;03m# GH#43986 Need to do list(mapped) in order to get treated as nested\u001b[39;00m\n\u001b[0;32m   1513\u001b[0m     \u001b[38;5;66;03m#  See also GH#25959 regarding EA support\u001b[39;00m\n\u001b[0;32m   1514\u001b[0m     \u001b[38;5;28;01mreturn\u001b[39;00m obj\u001b[38;5;241m.\u001b[39m_constructor_expanddim(\u001b[38;5;28mlist\u001b[39m(mapped), index\u001b[38;5;241m=\u001b[39mobj\u001b[38;5;241m.\u001b[39mindex)\n",
      "File \u001b[1;32mc:\\Python312\\Lib\\site-packages\\pandas\\core\\base.py:921\u001b[0m, in \u001b[0;36mIndexOpsMixin._map_values\u001b[1;34m(self, mapper, na_action, convert)\u001b[0m\n\u001b[0;32m    918\u001b[0m \u001b[38;5;28;01mif\u001b[39;00m \u001b[38;5;28misinstance\u001b[39m(arr, ExtensionArray):\n\u001b[0;32m    919\u001b[0m     \u001b[38;5;28;01mreturn\u001b[39;00m arr\u001b[38;5;241m.\u001b[39mmap(mapper, na_action\u001b[38;5;241m=\u001b[39mna_action)\n\u001b[1;32m--> 921\u001b[0m \u001b[38;5;28;01mreturn\u001b[39;00m \u001b[43malgorithms\u001b[49m\u001b[38;5;241;43m.\u001b[39;49m\u001b[43mmap_array\u001b[49m\u001b[43m(\u001b[49m\u001b[43marr\u001b[49m\u001b[43m,\u001b[49m\u001b[43m \u001b[49m\u001b[43mmapper\u001b[49m\u001b[43m,\u001b[49m\u001b[43m \u001b[49m\u001b[43mna_action\u001b[49m\u001b[38;5;241;43m=\u001b[39;49m\u001b[43mna_action\u001b[49m\u001b[43m,\u001b[49m\u001b[43m \u001b[49m\u001b[43mconvert\u001b[49m\u001b[38;5;241;43m=\u001b[39;49m\u001b[43mconvert\u001b[49m\u001b[43m)\u001b[49m\n",
      "File \u001b[1;32mc:\\Python312\\Lib\\site-packages\\pandas\\core\\algorithms.py:1743\u001b[0m, in \u001b[0;36mmap_array\u001b[1;34m(arr, mapper, na_action, convert)\u001b[0m\n\u001b[0;32m   1741\u001b[0m values \u001b[38;5;241m=\u001b[39m arr\u001b[38;5;241m.\u001b[39mastype(\u001b[38;5;28mobject\u001b[39m, copy\u001b[38;5;241m=\u001b[39m\u001b[38;5;28;01mFalse\u001b[39;00m)\n\u001b[0;32m   1742\u001b[0m \u001b[38;5;28;01mif\u001b[39;00m na_action \u001b[38;5;129;01mis\u001b[39;00m \u001b[38;5;28;01mNone\u001b[39;00m:\n\u001b[1;32m-> 1743\u001b[0m     \u001b[38;5;28;01mreturn\u001b[39;00m \u001b[43mlib\u001b[49m\u001b[38;5;241;43m.\u001b[39;49m\u001b[43mmap_infer\u001b[49m\u001b[43m(\u001b[49m\u001b[43mvalues\u001b[49m\u001b[43m,\u001b[49m\u001b[43m \u001b[49m\u001b[43mmapper\u001b[49m\u001b[43m,\u001b[49m\u001b[43m \u001b[49m\u001b[43mconvert\u001b[49m\u001b[38;5;241;43m=\u001b[39;49m\u001b[43mconvert\u001b[49m\u001b[43m)\u001b[49m\n\u001b[0;32m   1744\u001b[0m \u001b[38;5;28;01melse\u001b[39;00m:\n\u001b[0;32m   1745\u001b[0m     \u001b[38;5;28;01mreturn\u001b[39;00m lib\u001b[38;5;241m.\u001b[39mmap_infer_mask(\n\u001b[0;32m   1746\u001b[0m         values, mapper, mask\u001b[38;5;241m=\u001b[39misna(values)\u001b[38;5;241m.\u001b[39mview(np\u001b[38;5;241m.\u001b[39muint8), convert\u001b[38;5;241m=\u001b[39mconvert\n\u001b[0;32m   1747\u001b[0m     )\n",
      "File \u001b[1;32mlib.pyx:2972\u001b[0m, in \u001b[0;36mpandas._libs.lib.map_infer\u001b[1;34m()\u001b[0m\n",
      "Cell \u001b[1;32mIn[73], line 1\u001b[0m, in \u001b[0;36m<lambda>\u001b[1;34m(x)\u001b[0m\n\u001b[1;32m----> 1\u001b[0m data[\u001b[38;5;124m'\u001b[39m\u001b[38;5;124mNNG\u001b[39m\u001b[38;5;124m'\u001b[39m] \u001b[38;5;241m=\u001b[39m data[\u001b[38;5;124m'\u001b[39m\u001b[38;5;124mtitle\u001b[39m\u001b[38;5;124m'\u001b[39m]\u001b[38;5;241m.\u001b[39mapply(\u001b[38;5;28;01mlambda\u001b[39;00m x: [i[\u001b[38;5;241m0\u001b[39m] \u001b[38;5;28;01mfor\u001b[39;00m i \u001b[38;5;129;01min\u001b[39;00m \u001b[43mmecab\u001b[49m\u001b[38;5;241m.\u001b[39mpos(x) \u001b[38;5;28;01mif\u001b[39;00m i[i] \u001b[38;5;129;01min\u001b[39;00m (\u001b[38;5;124m'\u001b[39m\u001b[38;5;124mNNG\u001b[39m\u001b[38;5;124m'\u001b[39m)])\n",
      "\u001b[1;31mNameError\u001b[0m: name 'mecab' is not defined"
     ]
    }
   ],
   "source": [
    "# lambda x: [i[0] for i in mecab.pos(x) if i[i] in ('NNG')]  i의 두번째에NNG가 있는 데이터들의 첫번째 데이터를 가져오는 것\n",
    "\n",
    "data['NNG'] = data['title'].apply(lambda x: [i[0] for i in mecab.pos(x) if i[i] in ('NNG')])"
   ]
  },
  {
   "cell_type": "code",
   "execution_count": null,
   "metadata": {},
   "outputs": [],
   "source": [
    "data['year'] = data['date_ym'].apply(lambda x: int(x[:4]))\n",
    "data.head()"
   ]
  },
  {
   "cell_type": "code",
   "execution_count": null,
   "metadata": {},
   "outputs": [],
   "source": [
    "from collections import Counter "
   ]
  },
  {
   "cell_type": "code",
   "execution_count": null,
   "metadata": {},
   "outputs": [],
   "source": [
    "# 각 연도에 해당하는 형태소를 각각 연도의 리스트에 모으는것\n",
    "\n",
    "nng_2018 = [j for i in data.query('year == 2018')['NNG'] for j in i if j not in ['부동산','전망','시장','집값','투자'] and len(j) > 1]\n",
    "nng_2019 = [j for i in data.query('year == 2019')['NNG'] for j in i if j not in ['부동산','전망','시장','집값','투자'] and len(j) > 1]\n",
    "nng_2020 = [j for i in data.query('year == 2020')['NNG'] for j in i if j not in ['부동산','전망','시장','집값','투자'] and len(j) > 1]\n",
    "nng_2021 = [j for i in data.query('year == 2021')['NNG'] for j in i if j not in ['부동산','전망','시장','집값','투자'] and len(j) > 1]\n",
    "nng_2022 = [j for i in data.query('year == 2022')['NNG'] for j in i if j not in ['부동산','전망','시장','집값','투자'] and len(j) > 1]\n",
    "nng_2023 = [j for i in data.query('year == 2023')['NNG'] for j in i if j not in ['부동산','전망','시장','집값','투자'] and len(j) > 1]\n",
    "nng_2024 = [j for i in data.query('year == 2024')['NNG'] for j in i if j not in ['부동산','전망','시장','집값','투자'] and len(j) > 1]\n",
    "\n",
    "\n",
    "# 각 연도에 해당하는 형태소를 각각 연도의 리스트에 모은 거를 카운트 해주며 most_common은 가장 많이 나온 단어를 추출 해주는것 현재 100이니 가장 많이 나온 단어 100개 저장\n",
    "nng_2018_dict = dict(Counter(nng_2018).most_common(100))\n",
    "nng_2019_dict = dict(Counter(nng_2019).most_common(100))\n",
    "nng_2020_dict = dict(Counter(nng_2020).most_common(100))\n",
    "nng_2021_dict = dict(Counter(nng_2021).most_common(100))\n",
    "nng_2022_dict = dict(Counter(nng_2022).most_common(100))\n",
    "nng_2023_dict = dict(Counter(nng_2023).most_common(100))\n",
    "nng_2024_dict = dict(Counter(nng_2024).most_common(100))"
   ]
  },
  {
   "cell_type": "code",
   "execution_count": 83,
   "metadata": {},
   "outputs": [
    {
     "name": "stdout",
     "output_type": "stream",
     "text": [
      "Collecting wordcloud\n",
      "  Downloading wordcloud-1.9.4-cp312-cp312-win_amd64.whl.metadata (3.5 kB)\n",
      "Requirement already satisfied: numpy>=1.6.1 in c:\\python312\\lib\\site-packages (from wordcloud) (1.26.4)\n",
      "Requirement already satisfied: pillow in c:\\python312\\lib\\site-packages (from wordcloud) (10.3.0)\n",
      "Requirement already satisfied: matplotlib in c:\\python312\\lib\\site-packages (from wordcloud) (3.8.4)\n",
      "Requirement already satisfied: contourpy>=1.0.1 in c:\\python312\\lib\\site-packages (from matplotlib->wordcloud) (1.2.1)\n",
      "Requirement already satisfied: cycler>=0.10 in c:\\python312\\lib\\site-packages (from matplotlib->wordcloud) (0.12.1)\n",
      "Requirement already satisfied: fonttools>=4.22.0 in c:\\python312\\lib\\site-packages (from matplotlib->wordcloud) (4.51.0)\n",
      "Requirement already satisfied: kiwisolver>=1.3.1 in c:\\python312\\lib\\site-packages (from matplotlib->wordcloud) (1.4.5)\n",
      "Requirement already satisfied: packaging>=20.0 in c:\\python312\\lib\\site-packages (from matplotlib->wordcloud) (24.0)\n",
      "Requirement already satisfied: pyparsing>=2.3.1 in c:\\python312\\lib\\site-packages (from matplotlib->wordcloud) (3.1.2)\n",
      "Requirement already satisfied: python-dateutil>=2.7 in c:\\python312\\lib\\site-packages (from matplotlib->wordcloud) (2.9.0.post0)\n",
      "Requirement already satisfied: six>=1.5 in c:\\python312\\lib\\site-packages (from python-dateutil>=2.7->matplotlib->wordcloud) (1.16.0)\n",
      "Downloading wordcloud-1.9.4-cp312-cp312-win_amd64.whl (301 kB)\n",
      "Installing collected packages: wordcloud\n"
     ]
    },
    {
     "name": "stderr",
     "output_type": "stream",
     "text": [
      "WARNING: Ignoring invalid distribution ~ (C:\\Python312\\Lib\\site-packages)\n",
      "WARNING: Ignoring invalid distribution ~-p (C:\\Python312\\Lib\\site-packages)\n",
      "WARNING: Ignoring invalid distribution ~ip (C:\\Python312\\Lib\\site-packages)\n",
      "WARNING: Ignoring invalid distribution ~lotly (C:\\Python312\\Lib\\site-packages)\n",
      "WARNING: Ignoring invalid distribution ~~p (C:\\Python312\\Lib\\site-packages)\n",
      "WARNING: Ignoring invalid distribution ~ (C:\\Python312\\Lib\\site-packages)\n",
      "WARNING: Ignoring invalid distribution ~-p (C:\\Python312\\Lib\\site-packages)\n",
      "WARNING: Ignoring invalid distribution ~ip (C:\\Python312\\Lib\\site-packages)\n",
      "WARNING: Ignoring invalid distribution ~lotly (C:\\Python312\\Lib\\site-packages)\n",
      "WARNING: Ignoring invalid distribution ~~p (C:\\Python312\\Lib\\site-packages)\n",
      "  WARNING: Failed to write executable - trying to use .deleteme logic\n",
      "ERROR: Could not install packages due to an OSError: [WinError 2] 지정된 파일을 찾을 수 없습니다: 'C:\\\\Python312\\\\Scripts\\\\wordcloud_cli.exe' -> 'C:\\\\Python312\\\\Scripts\\\\wordcloud_cli.exe.deleteme'\n",
      "\n"
     ]
    }
   ],
   "source": [
    "!pip install wordcloud"
   ]
  },
  {
   "cell_type": "markdown",
   "metadata": {},
   "source": [
    "## **분석**"
   ]
  },
  {
   "cell_type": "code",
   "execution_count": null,
   "metadata": {},
   "outputs": [],
   "source": [
    "import matplotlib.pyplot as plt\n",
    "plt.rc('font', family='NanumGothic')\n",
    "\n",
    "from wordcloud import WordCloud\n",
    "\n",
    "path = '/user/share/fonts/truetype/nanum/NanumGothic.ttf'\n",
    "wc = WordCloud(font_path = path,\n",
    "               background_color='white',\n",
    "               width=1000,\n",
    "               height=1000,\n",
    "               max_font_size=300)\n",
    "\n",
    "dict_list = [nng_2018_dict, nng_2019_dict, nng_2020_dict, nng_2021_dict, nng_2022_dict, nng_2023_dict, nng_2024_dict]\n",
    "title_list = [i for i in range(2018, 2025)]\n",
    "\n",
    "fig = plt.figure(figsize=(25,20))\n",
    "for i in range(len(dict_list)):\n",
    "    wc.generate_from_frequencies(dict_list[i]) #워드클라우드 생성\n",
    "\n",
    "    # fig.add_subplot(세로, 가로) 한번에 여러 표를 보이게 하기 위해서 하는것 \n",
    "    ax = fig.add_subplot(2,3,i+1)\n",
    "    ax.imshow(wc, interpolation='bilinear')\n",
    "    ax.set_xlabel(f'{title_list[i]}') #그래프 제목 출력\n",
    "    ax.set_xticks([]), ax.set_yticks([]) #x축, y축을 없앰\n",
    "    plt.imshow(wc, interpolation='bilinear')\n",
    "fig.suptitle('부동산 뉴스 제목 키워드')\n",
    "fig.tight_layout()\n",
    "plt.show()"
   ]
  }
 ],
 "metadata": {
  "kernelspec": {
   "display_name": "Python 3",
   "language": "python",
   "name": "python3"
  },
  "language_info": {
   "codemirror_mode": {
    "name": "ipython",
    "version": 3
   },
   "file_extension": ".py",
   "mimetype": "text/x-python",
   "name": "python",
   "nbconvert_exporter": "python",
   "pygments_lexer": "ipython3",
   "version": "3.12.1"
  }
 },
 "nbformat": 4,
 "nbformat_minor": 2
}
